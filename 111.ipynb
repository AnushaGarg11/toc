{
  "nbformat": 4,
  "nbformat_minor": 0,
  "metadata": {
    "colab": {
      "provenance": []
    },
    "kernelspec": {
      "name": "python3",
      "display_name": "Python 3"
    },
    "language_info": {
      "name": "python"
    }
  },
  "cells": [
    {
      "cell_type": "markdown",
      "source": [
        "<h1>Anusha Garg <br>\n",
        "16121 <br>\n",
        "B.Sc.(H) Computer Science <br>\n",
        "MACHINE LEARNING PRACTICALS 2025 </h1>"
      ],
      "metadata": {
        "id": "28IDWpFxcnDe"
      }
    },
    {
      "cell_type": "markdown",
      "source": [
        "<h1> Importing Libraries </h1"
      ],
      "metadata": {
        "id": "_REMHdeYJETo"
      }
    },
    {
      "cell_type": "code",
      "execution_count": null,
      "metadata": {
        "id": "KWtltgUIm2pQ"
      },
      "outputs": [],
      "source": [
        "import numpy as np\n",
        "import pandas as pd\n",
        "from pandas import read_csv\n",
        "import matplotlib.pyplot as plt\n",
        "import seaborn as sns\n",
        "from sklearn.model_selection import train_test_split\n",
        "from sklearn import metrics, datasets\n",
        "from sklearn import linear_model\n",
        "from sklearn.metrics import r2_score,accuracy_score"
      ]
    },
    {
      "cell_type": "markdown",
      "source": [
        "<h1> 1. Linear Regression </h1>\n",
        "\n",
        "**without splitting the data**"
      ],
      "metadata": {
        "id": "ls8-kiNyJeBt"
      }
    },
    {
      "cell_type": "code",
      "source": [
        "df=read_csv(r\"/content/drive/MyDrive/ML Datasets/house2 - Sheet1.csv\")\n",
        "X=df.iloc[:,0].values.reshape(-1,1)\n",
        "Y=df.iloc[:,1].values.reshape(-1,1)\n",
        "reg=linear_model.LinearRegression()\n",
        "reg.fit(X,Y)"
      ],
      "metadata": {
        "colab": {
          "base_uri": "https://localhost:8080/",
          "height": 80
        },
        "id": "qDnB5B6QJ_Ea",
        "outputId": "ab7bf9af-9fb0-459f-8e03-77fecde3d735"
      },
      "execution_count": null,
      "outputs": [
        {
          "output_type": "execute_result",
          "data": {
            "text/plain": [
              "LinearRegression()"
            ],
            "text/html": [
              "<style>#sk-container-id-1 {\n",
              "  /* Definition of color scheme common for light and dark mode */\n",
              "  --sklearn-color-text: #000;\n",
              "  --sklearn-color-text-muted: #666;\n",
              "  --sklearn-color-line: gray;\n",
              "  /* Definition of color scheme for unfitted estimators */\n",
              "  --sklearn-color-unfitted-level-0: #fff5e6;\n",
              "  --sklearn-color-unfitted-level-1: #f6e4d2;\n",
              "  --sklearn-color-unfitted-level-2: #ffe0b3;\n",
              "  --sklearn-color-unfitted-level-3: chocolate;\n",
              "  /* Definition of color scheme for fitted estimators */\n",
              "  --sklearn-color-fitted-level-0: #f0f8ff;\n",
              "  --sklearn-color-fitted-level-1: #d4ebff;\n",
              "  --sklearn-color-fitted-level-2: #b3dbfd;\n",
              "  --sklearn-color-fitted-level-3: cornflowerblue;\n",
              "\n",
              "  /* Specific color for light theme */\n",
              "  --sklearn-color-text-on-default-background: var(--sg-text-color, var(--theme-code-foreground, var(--jp-content-font-color1, black)));\n",
              "  --sklearn-color-background: var(--sg-background-color, var(--theme-background, var(--jp-layout-color0, white)));\n",
              "  --sklearn-color-border-box: var(--sg-text-color, var(--theme-code-foreground, var(--jp-content-font-color1, black)));\n",
              "  --sklearn-color-icon: #696969;\n",
              "\n",
              "  @media (prefers-color-scheme: dark) {\n",
              "    /* Redefinition of color scheme for dark theme */\n",
              "    --sklearn-color-text-on-default-background: var(--sg-text-color, var(--theme-code-foreground, var(--jp-content-font-color1, white)));\n",
              "    --sklearn-color-background: var(--sg-background-color, var(--theme-background, var(--jp-layout-color0, #111)));\n",
              "    --sklearn-color-border-box: var(--sg-text-color, var(--theme-code-foreground, var(--jp-content-font-color1, white)));\n",
              "    --sklearn-color-icon: #878787;\n",
              "  }\n",
              "}\n",
              "\n",
              "#sk-container-id-1 {\n",
              "  color: var(--sklearn-color-text);\n",
              "}\n",
              "\n",
              "#sk-container-id-1 pre {\n",
              "  padding: 0;\n",
              "}\n",
              "\n",
              "#sk-container-id-1 input.sk-hidden--visually {\n",
              "  border: 0;\n",
              "  clip: rect(1px 1px 1px 1px);\n",
              "  clip: rect(1px, 1px, 1px, 1px);\n",
              "  height: 1px;\n",
              "  margin: -1px;\n",
              "  overflow: hidden;\n",
              "  padding: 0;\n",
              "  position: absolute;\n",
              "  width: 1px;\n",
              "}\n",
              "\n",
              "#sk-container-id-1 div.sk-dashed-wrapped {\n",
              "  border: 1px dashed var(--sklearn-color-line);\n",
              "  margin: 0 0.4em 0.5em 0.4em;\n",
              "  box-sizing: border-box;\n",
              "  padding-bottom: 0.4em;\n",
              "  background-color: var(--sklearn-color-background);\n",
              "}\n",
              "\n",
              "#sk-container-id-1 div.sk-container {\n",
              "  /* jupyter's `normalize.less` sets `[hidden] { display: none; }`\n",
              "     but bootstrap.min.css set `[hidden] { display: none !important; }`\n",
              "     so we also need the `!important` here to be able to override the\n",
              "     default hidden behavior on the sphinx rendered scikit-learn.org.\n",
              "     See: https://github.com/scikit-learn/scikit-learn/issues/21755 */\n",
              "  display: inline-block !important;\n",
              "  position: relative;\n",
              "}\n",
              "\n",
              "#sk-container-id-1 div.sk-text-repr-fallback {\n",
              "  display: none;\n",
              "}\n",
              "\n",
              "div.sk-parallel-item,\n",
              "div.sk-serial,\n",
              "div.sk-item {\n",
              "  /* draw centered vertical line to link estimators */\n",
              "  background-image: linear-gradient(var(--sklearn-color-text-on-default-background), var(--sklearn-color-text-on-default-background));\n",
              "  background-size: 2px 100%;\n",
              "  background-repeat: no-repeat;\n",
              "  background-position: center center;\n",
              "}\n",
              "\n",
              "/* Parallel-specific style estimator block */\n",
              "\n",
              "#sk-container-id-1 div.sk-parallel-item::after {\n",
              "  content: \"\";\n",
              "  width: 100%;\n",
              "  border-bottom: 2px solid var(--sklearn-color-text-on-default-background);\n",
              "  flex-grow: 1;\n",
              "}\n",
              "\n",
              "#sk-container-id-1 div.sk-parallel {\n",
              "  display: flex;\n",
              "  align-items: stretch;\n",
              "  justify-content: center;\n",
              "  background-color: var(--sklearn-color-background);\n",
              "  position: relative;\n",
              "}\n",
              "\n",
              "#sk-container-id-1 div.sk-parallel-item {\n",
              "  display: flex;\n",
              "  flex-direction: column;\n",
              "}\n",
              "\n",
              "#sk-container-id-1 div.sk-parallel-item:first-child::after {\n",
              "  align-self: flex-end;\n",
              "  width: 50%;\n",
              "}\n",
              "\n",
              "#sk-container-id-1 div.sk-parallel-item:last-child::after {\n",
              "  align-self: flex-start;\n",
              "  width: 50%;\n",
              "}\n",
              "\n",
              "#sk-container-id-1 div.sk-parallel-item:only-child::after {\n",
              "  width: 0;\n",
              "}\n",
              "\n",
              "/* Serial-specific style estimator block */\n",
              "\n",
              "#sk-container-id-1 div.sk-serial {\n",
              "  display: flex;\n",
              "  flex-direction: column;\n",
              "  align-items: center;\n",
              "  background-color: var(--sklearn-color-background);\n",
              "  padding-right: 1em;\n",
              "  padding-left: 1em;\n",
              "}\n",
              "\n",
              "\n",
              "/* Toggleable style: style used for estimator/Pipeline/ColumnTransformer box that is\n",
              "clickable and can be expanded/collapsed.\n",
              "- Pipeline and ColumnTransformer use this feature and define the default style\n",
              "- Estimators will overwrite some part of the style using the `sk-estimator` class\n",
              "*/\n",
              "\n",
              "/* Pipeline and ColumnTransformer style (default) */\n",
              "\n",
              "#sk-container-id-1 div.sk-toggleable {\n",
              "  /* Default theme specific background. It is overwritten whether we have a\n",
              "  specific estimator or a Pipeline/ColumnTransformer */\n",
              "  background-color: var(--sklearn-color-background);\n",
              "}\n",
              "\n",
              "/* Toggleable label */\n",
              "#sk-container-id-1 label.sk-toggleable__label {\n",
              "  cursor: pointer;\n",
              "  display: flex;\n",
              "  width: 100%;\n",
              "  margin-bottom: 0;\n",
              "  padding: 0.5em;\n",
              "  box-sizing: border-box;\n",
              "  text-align: center;\n",
              "  align-items: start;\n",
              "  justify-content: space-between;\n",
              "  gap: 0.5em;\n",
              "}\n",
              "\n",
              "#sk-container-id-1 label.sk-toggleable__label .caption {\n",
              "  font-size: 0.6rem;\n",
              "  font-weight: lighter;\n",
              "  color: var(--sklearn-color-text-muted);\n",
              "}\n",
              "\n",
              "#sk-container-id-1 label.sk-toggleable__label-arrow:before {\n",
              "  /* Arrow on the left of the label */\n",
              "  content: \"▸\";\n",
              "  float: left;\n",
              "  margin-right: 0.25em;\n",
              "  color: var(--sklearn-color-icon);\n",
              "}\n",
              "\n",
              "#sk-container-id-1 label.sk-toggleable__label-arrow:hover:before {\n",
              "  color: var(--sklearn-color-text);\n",
              "}\n",
              "\n",
              "/* Toggleable content - dropdown */\n",
              "\n",
              "#sk-container-id-1 div.sk-toggleable__content {\n",
              "  max-height: 0;\n",
              "  max-width: 0;\n",
              "  overflow: hidden;\n",
              "  text-align: left;\n",
              "  /* unfitted */\n",
              "  background-color: var(--sklearn-color-unfitted-level-0);\n",
              "}\n",
              "\n",
              "#sk-container-id-1 div.sk-toggleable__content.fitted {\n",
              "  /* fitted */\n",
              "  background-color: var(--sklearn-color-fitted-level-0);\n",
              "}\n",
              "\n",
              "#sk-container-id-1 div.sk-toggleable__content pre {\n",
              "  margin: 0.2em;\n",
              "  border-radius: 0.25em;\n",
              "  color: var(--sklearn-color-text);\n",
              "  /* unfitted */\n",
              "  background-color: var(--sklearn-color-unfitted-level-0);\n",
              "}\n",
              "\n",
              "#sk-container-id-1 div.sk-toggleable__content.fitted pre {\n",
              "  /* unfitted */\n",
              "  background-color: var(--sklearn-color-fitted-level-0);\n",
              "}\n",
              "\n",
              "#sk-container-id-1 input.sk-toggleable__control:checked~div.sk-toggleable__content {\n",
              "  /* Expand drop-down */\n",
              "  max-height: 200px;\n",
              "  max-width: 100%;\n",
              "  overflow: auto;\n",
              "}\n",
              "\n",
              "#sk-container-id-1 input.sk-toggleable__control:checked~label.sk-toggleable__label-arrow:before {\n",
              "  content: \"▾\";\n",
              "}\n",
              "\n",
              "/* Pipeline/ColumnTransformer-specific style */\n",
              "\n",
              "#sk-container-id-1 div.sk-label input.sk-toggleable__control:checked~label.sk-toggleable__label {\n",
              "  color: var(--sklearn-color-text);\n",
              "  background-color: var(--sklearn-color-unfitted-level-2);\n",
              "}\n",
              "\n",
              "#sk-container-id-1 div.sk-label.fitted input.sk-toggleable__control:checked~label.sk-toggleable__label {\n",
              "  background-color: var(--sklearn-color-fitted-level-2);\n",
              "}\n",
              "\n",
              "/* Estimator-specific style */\n",
              "\n",
              "/* Colorize estimator box */\n",
              "#sk-container-id-1 div.sk-estimator input.sk-toggleable__control:checked~label.sk-toggleable__label {\n",
              "  /* unfitted */\n",
              "  background-color: var(--sklearn-color-unfitted-level-2);\n",
              "}\n",
              "\n",
              "#sk-container-id-1 div.sk-estimator.fitted input.sk-toggleable__control:checked~label.sk-toggleable__label {\n",
              "  /* fitted */\n",
              "  background-color: var(--sklearn-color-fitted-level-2);\n",
              "}\n",
              "\n",
              "#sk-container-id-1 div.sk-label label.sk-toggleable__label,\n",
              "#sk-container-id-1 div.sk-label label {\n",
              "  /* The background is the default theme color */\n",
              "  color: var(--sklearn-color-text-on-default-background);\n",
              "}\n",
              "\n",
              "/* On hover, darken the color of the background */\n",
              "#sk-container-id-1 div.sk-label:hover label.sk-toggleable__label {\n",
              "  color: var(--sklearn-color-text);\n",
              "  background-color: var(--sklearn-color-unfitted-level-2);\n",
              "}\n",
              "\n",
              "/* Label box, darken color on hover, fitted */\n",
              "#sk-container-id-1 div.sk-label.fitted:hover label.sk-toggleable__label.fitted {\n",
              "  color: var(--sklearn-color-text);\n",
              "  background-color: var(--sklearn-color-fitted-level-2);\n",
              "}\n",
              "\n",
              "/* Estimator label */\n",
              "\n",
              "#sk-container-id-1 div.sk-label label {\n",
              "  font-family: monospace;\n",
              "  font-weight: bold;\n",
              "  display: inline-block;\n",
              "  line-height: 1.2em;\n",
              "}\n",
              "\n",
              "#sk-container-id-1 div.sk-label-container {\n",
              "  text-align: center;\n",
              "}\n",
              "\n",
              "/* Estimator-specific */\n",
              "#sk-container-id-1 div.sk-estimator {\n",
              "  font-family: monospace;\n",
              "  border: 1px dotted var(--sklearn-color-border-box);\n",
              "  border-radius: 0.25em;\n",
              "  box-sizing: border-box;\n",
              "  margin-bottom: 0.5em;\n",
              "  /* unfitted */\n",
              "  background-color: var(--sklearn-color-unfitted-level-0);\n",
              "}\n",
              "\n",
              "#sk-container-id-1 div.sk-estimator.fitted {\n",
              "  /* fitted */\n",
              "  background-color: var(--sklearn-color-fitted-level-0);\n",
              "}\n",
              "\n",
              "/* on hover */\n",
              "#sk-container-id-1 div.sk-estimator:hover {\n",
              "  /* unfitted */\n",
              "  background-color: var(--sklearn-color-unfitted-level-2);\n",
              "}\n",
              "\n",
              "#sk-container-id-1 div.sk-estimator.fitted:hover {\n",
              "  /* fitted */\n",
              "  background-color: var(--sklearn-color-fitted-level-2);\n",
              "}\n",
              "\n",
              "/* Specification for estimator info (e.g. \"i\" and \"?\") */\n",
              "\n",
              "/* Common style for \"i\" and \"?\" */\n",
              "\n",
              ".sk-estimator-doc-link,\n",
              "a:link.sk-estimator-doc-link,\n",
              "a:visited.sk-estimator-doc-link {\n",
              "  float: right;\n",
              "  font-size: smaller;\n",
              "  line-height: 1em;\n",
              "  font-family: monospace;\n",
              "  background-color: var(--sklearn-color-background);\n",
              "  border-radius: 1em;\n",
              "  height: 1em;\n",
              "  width: 1em;\n",
              "  text-decoration: none !important;\n",
              "  margin-left: 0.5em;\n",
              "  text-align: center;\n",
              "  /* unfitted */\n",
              "  border: var(--sklearn-color-unfitted-level-1) 1pt solid;\n",
              "  color: var(--sklearn-color-unfitted-level-1);\n",
              "}\n",
              "\n",
              ".sk-estimator-doc-link.fitted,\n",
              "a:link.sk-estimator-doc-link.fitted,\n",
              "a:visited.sk-estimator-doc-link.fitted {\n",
              "  /* fitted */\n",
              "  border: var(--sklearn-color-fitted-level-1) 1pt solid;\n",
              "  color: var(--sklearn-color-fitted-level-1);\n",
              "}\n",
              "\n",
              "/* On hover */\n",
              "div.sk-estimator:hover .sk-estimator-doc-link:hover,\n",
              ".sk-estimator-doc-link:hover,\n",
              "div.sk-label-container:hover .sk-estimator-doc-link:hover,\n",
              ".sk-estimator-doc-link:hover {\n",
              "  /* unfitted */\n",
              "  background-color: var(--sklearn-color-unfitted-level-3);\n",
              "  color: var(--sklearn-color-background);\n",
              "  text-decoration: none;\n",
              "}\n",
              "\n",
              "div.sk-estimator.fitted:hover .sk-estimator-doc-link.fitted:hover,\n",
              ".sk-estimator-doc-link.fitted:hover,\n",
              "div.sk-label-container:hover .sk-estimator-doc-link.fitted:hover,\n",
              ".sk-estimator-doc-link.fitted:hover {\n",
              "  /* fitted */\n",
              "  background-color: var(--sklearn-color-fitted-level-3);\n",
              "  color: var(--sklearn-color-background);\n",
              "  text-decoration: none;\n",
              "}\n",
              "\n",
              "/* Span, style for the box shown on hovering the info icon */\n",
              ".sk-estimator-doc-link span {\n",
              "  display: none;\n",
              "  z-index: 9999;\n",
              "  position: relative;\n",
              "  font-weight: normal;\n",
              "  right: .2ex;\n",
              "  padding: .5ex;\n",
              "  margin: .5ex;\n",
              "  width: min-content;\n",
              "  min-width: 20ex;\n",
              "  max-width: 50ex;\n",
              "  color: var(--sklearn-color-text);\n",
              "  box-shadow: 2pt 2pt 4pt #999;\n",
              "  /* unfitted */\n",
              "  background: var(--sklearn-color-unfitted-level-0);\n",
              "  border: .5pt solid var(--sklearn-color-unfitted-level-3);\n",
              "}\n",
              "\n",
              ".sk-estimator-doc-link.fitted span {\n",
              "  /* fitted */\n",
              "  background: var(--sklearn-color-fitted-level-0);\n",
              "  border: var(--sklearn-color-fitted-level-3);\n",
              "}\n",
              "\n",
              ".sk-estimator-doc-link:hover span {\n",
              "  display: block;\n",
              "}\n",
              "\n",
              "/* \"?\"-specific style due to the `<a>` HTML tag */\n",
              "\n",
              "#sk-container-id-1 a.estimator_doc_link {\n",
              "  float: right;\n",
              "  font-size: 1rem;\n",
              "  line-height: 1em;\n",
              "  font-family: monospace;\n",
              "  background-color: var(--sklearn-color-background);\n",
              "  border-radius: 1rem;\n",
              "  height: 1rem;\n",
              "  width: 1rem;\n",
              "  text-decoration: none;\n",
              "  /* unfitted */\n",
              "  color: var(--sklearn-color-unfitted-level-1);\n",
              "  border: var(--sklearn-color-unfitted-level-1) 1pt solid;\n",
              "}\n",
              "\n",
              "#sk-container-id-1 a.estimator_doc_link.fitted {\n",
              "  /* fitted */\n",
              "  border: var(--sklearn-color-fitted-level-1) 1pt solid;\n",
              "  color: var(--sklearn-color-fitted-level-1);\n",
              "}\n",
              "\n",
              "/* On hover */\n",
              "#sk-container-id-1 a.estimator_doc_link:hover {\n",
              "  /* unfitted */\n",
              "  background-color: var(--sklearn-color-unfitted-level-3);\n",
              "  color: var(--sklearn-color-background);\n",
              "  text-decoration: none;\n",
              "}\n",
              "\n",
              "#sk-container-id-1 a.estimator_doc_link.fitted:hover {\n",
              "  /* fitted */\n",
              "  background-color: var(--sklearn-color-fitted-level-3);\n",
              "}\n",
              "</style><div id=\"sk-container-id-1\" class=\"sk-top-container\"><div class=\"sk-text-repr-fallback\"><pre>LinearRegression()</pre><b>In a Jupyter environment, please rerun this cell to show the HTML representation or trust the notebook. <br />On GitHub, the HTML representation is unable to render, please try loading this page with nbviewer.org.</b></div><div class=\"sk-container\" hidden><div class=\"sk-item\"><div class=\"sk-estimator fitted sk-toggleable\"><input class=\"sk-toggleable__control sk-hidden--visually\" id=\"sk-estimator-id-1\" type=\"checkbox\" checked><label for=\"sk-estimator-id-1\" class=\"sk-toggleable__label fitted sk-toggleable__label-arrow\"><div><div>LinearRegression</div></div><div><a class=\"sk-estimator-doc-link fitted\" rel=\"noreferrer\" target=\"_blank\" href=\"https://scikit-learn.org/1.6/modules/generated/sklearn.linear_model.LinearRegression.html\">?<span>Documentation for LinearRegression</span></a><span class=\"sk-estimator-doc-link fitted\">i<span>Fitted</span></span></div></label><div class=\"sk-toggleable__content fitted\"><pre>LinearRegression()</pre></div> </div></div></div></div>"
            ]
          },
          "metadata": {},
          "execution_count": 2
        }
      ]
    },
    {
      "cell_type": "code",
      "source": [
        "print(\"Reg Intercept= \",reg.intercept_)\n",
        "print(\"Reg Coefficient= \",reg.coef_)\n",
        "y=100*reg.coef_+reg.intercept_\n",
        "print(\"The predicted cost is: \",y)\n",
        "print(reg.predict([[100]]))\n",
        "print(\"The score is: \", reg.score(X,Y))"
      ],
      "metadata": {
        "colab": {
          "base_uri": "https://localhost:8080/"
        },
        "id": "AXeSqPkFZakA",
        "outputId": "5af4b329-440d-4c56-97c8-4b0d27d350b8"
      },
      "execution_count": null,
      "outputs": [
        {
          "output_type": "stream",
          "name": "stdout",
          "text": [
            "Reg Intercept=  [1870.18255578]\n",
            "Reg Coefficient=  [[109.85801217]]\n",
            "The predicted cost is:  [[12855.98377282]]\n",
            "[[12855.98377282]]\n",
            "The score is:  0.9943031315421245\n"
          ]
        }
      ]
    },
    {
      "cell_type": "code",
      "source": [
        "\"\"\"plt.scatter(X,Y)\n",
        "plt.xlabel('Area')\n",
        "plt.ylabel('Cost')\n",
        "plt.title('Area vs Cost')\"\"\""
      ],
      "metadata": {
        "colab": {
          "base_uri": "https://localhost:8080/",
          "height": 35
        },
        "id": "r3H433_obuhj",
        "outputId": "259fcc65-abaa-4115-b6c3-1b906c144075"
      },
      "execution_count": null,
      "outputs": [
        {
          "output_type": "execute_result",
          "data": {
            "text/plain": [
              "\"plt.scatter(X,Y)\\nplt.xlabel('Area')\\nplt.ylabel('Cost')\\nplt.title('Area vs Cost')\""
            ],
            "application/vnd.google.colaboratory.intrinsic+json": {
              "type": "string"
            }
          },
          "metadata": {},
          "execution_count": 4
        }
      ]
    },
    {
      "cell_type": "markdown",
      "source": [
        "<h1>2. Multivariate Regression</h1>"
      ],
      "metadata": {
        "id": "1KIugY0zmTYx"
      }
    },
    {
      "cell_type": "markdown",
      "source": [
        " **Now with splitting the data**"
      ],
      "metadata": {
        "id": "tU3-J6IJbrHY"
      }
    },
    {
      "cell_type": "code",
      "source": [
        "df2=pd.read_csv(r\"/content/drive/MyDrive/ML Datasets/Salary_Data - Salary_Data.csv\")"
      ],
      "metadata": {
        "id": "4bbUh1YzZkW2"
      },
      "execution_count": null,
      "outputs": []
    },
    {
      "cell_type": "code",
      "source": [
        "x=df2.iloc[:,0:2]\n",
        "y=df2.iloc[:,2]\n",
        "x_train,x_test,y_train,y_test=train_test_split(x,y,test_size=0.2,random_state=0)\n",
        "regressor=linear_model.LinearRegression()\n",
        "regressor.fit(x_train,y_train)\n",
        "pred=regressor.predict(x_test)\n",
        "#print(pred)\n",
        "#print(y_test)\n",
        "print(\"Testing r2 score\", r2_score(y_test,pred))\n",
        "print(\"Training r2 score\",r2_score(y_train,regressor.predict(x_train)))"
      ],
      "metadata": {
        "colab": {
          "base_uri": "https://localhost:8080/"
        },
        "id": "bVjiS8VHuL4Y",
        "outputId": "faa99f23-5070-4507-eddf-c2097b2a1c6c"
      },
      "execution_count": null,
      "outputs": [
        {
          "output_type": "stream",
          "name": "stdout",
          "text": [
            "Testing r2 score 0.9993411647000848\n",
            "Training r2 score 0.9769628316227651\n"
          ]
        }
      ]
    },
    {
      "cell_type": "code",
      "source": [
        "x=np.array([[1,100,3],[1,300,7],[1,500,4]])\n",
        "y=np.array([300,700,600])\n",
        "xt=x.T\n",
        "xtx=xt@x\n",
        "xinv=np.linalg.inv(xtx)\n",
        "xty=xt@y\n",
        "b=xinv@xty\n",
        "b"
      ],
      "metadata": {
        "colab": {
          "base_uri": "https://localhost:8080/"
        },
        "id": "OG4fIxC4feON",
        "outputId": "471cd260-dbf8-498b-d478-51fd49232e1e"
      },
      "execution_count": null,
      "outputs": [
        {
          "output_type": "execute_result",
          "data": {
            "text/plain": [
              "array([28.57142857,  0.57142857, 71.42857143])"
            ]
          },
          "metadata": {},
          "execution_count": 7
        }
      ]
    },
    {
      "cell_type": "markdown",
      "source": [
        "<h1>3. Linear Regression using Gradient Descent </h1>"
      ],
      "metadata": {
        "id": "PAykVj-l0c6f"
      }
    },
    {
      "cell_type": "code",
      "source": [
        "x1=np.array([1,2,3,4,5])\n",
        "y1=np.array([2,2.5,3.5,4.0,4.5])\n",
        "w0=0.5\n",
        "w1=0.5\n",
        "loss_history=[]\n",
        "epochs=100\n",
        "m=len(x1)\n",
        "learning_rate=0.1\n",
        "for i in range(epochs):\n",
        "  y1_pred=w0+w1*x1\n",
        "  dw0=-(1/m)*np.sum(y1-y1_pred)\n",
        "  dw1=-(1/m)*np.sum((y1-y1_pred)*x1)\n",
        "  mse=np.mean((y1-y1_pred)**2)\n",
        "  loss_history.append(mse)\n",
        "  w0-=learning_rate*dw0\n",
        "  w1-=learning_rate*dw1\n",
        "  if i%10==0:\n",
        "    print(\"\\niteration : \",i, \"\\nw0= \",w0,\"\\nw1=\",w1,\"\\ndw0= \",dw0,\"\\ndw1=\",dw1,\"\\nMSE=\",mse)"
      ],
      "metadata": {
        "colab": {
          "base_uri": "https://localhost:8080/"
        },
        "id": "jvq-NEitzYfi",
        "outputId": "ebfe9345-af7c-4865-9f2c-abb262e67936",
        "collapsed": true
      },
      "execution_count": null,
      "outputs": [
        {
          "output_type": "stream",
          "name": "stdout",
          "text": [
            "\n",
            "iteration :  0 \n",
            "w0=  0.63 \n",
            "w1= 0.92 \n",
            "dw0=  -1.3 \n",
            "dw1= -4.2 \n",
            "MSE= 1.75\n",
            "\n",
            "iteration :  10 \n",
            "w0=  0.727552236672 \n",
            "w1= 0.8224080524480001 \n",
            "dw0=  -0.10703303712000008 \n",
            "dw1= 0.029646241919999563 \n",
            "MSE= 0.08796722245888719\n",
            "\n",
            "iteration :  20 \n",
            "w0=  0.825121696218344 \n",
            "w1= 0.7953828736968516 \n",
            "dw0=  -0.09025543369572149 \n",
            "dw1= 0.024999307883173262 \n",
            "MSE= 0.06688469103640012\n",
            "\n",
            "iteration :  30 \n",
            "w0=  0.9073970224143765 \n",
            "w1= 0.7725939276296486 \n",
            "dw0=  -0.07610778233581708 \n",
            "dw1= 0.02108063531480764 \n",
            "MSE= 0.05189356773117691\n",
            "\n",
            "iteration :  40 \n",
            "w0=  0.9767755890151039 \n",
            "w1= 0.7533771771701402 \n",
            "dw0=  -0.06417779290279882 \n",
            "dw1= 0.01777621953985511 \n",
            "MSE= 0.04123385265954499\n",
            "\n",
            "iteration :  50 \n",
            "w0=  1.0352789791092738 \n",
            "w1= 0.7371726762189321 \n",
            "dw0=  -0.05411784413452994 \n",
            "dw1= 0.014989775042843068 \n",
            "MSE= 0.0336540654017893\n",
            "\n",
            "iteration :  60 \n",
            "w0=  1.0846118901249755 \n",
            "w1= 0.7235082509233548 \n",
            "dw0=  -0.04563480483358209 \n",
            "dw1= 0.012640109182454307 \n",
            "MSE= 0.028264317694016765\n",
            "\n",
            "iteration :  70 \n",
            "w0=  1.126211806050628 \n",
            "w1= 0.7119857412687461 \n",
            "dw0=  -0.03848149248189259 \n",
            "dw1= 0.010658756364767985 \n",
            "MSE= 0.024431838052359954\n",
            "\n",
            "iteration :  80 \n",
            "w0=  1.1612908834736202 \n",
            "w1= 0.7022693993173926 \n",
            "dw0=  -0.032449470728189225 \n",
            "dw1= 0.00898798306277202 \n",
            "MSE= 0.021706682627638852\n",
            "\n",
            "iteration :  90 \n",
            "w0=  1.190871271930354 \n",
            "w1= 0.6940761060379316 \n",
            "dw0=  -0.027362975878211418 \n",
            "dw1= 0.007579105551536358 \n",
            "MSE= 0.019768910536649677\n"
          ]
        }
      ]
    },
    {
      "cell_type": "code",
      "source": [
        "plt.plot(loss_history)\n",
        "plt.xlabel(\"epochs\")\n",
        "plt.ylabel(\"loss\")\n",
        "plt.show"
      ],
      "metadata": {
        "colab": {
          "base_uri": "https://localhost:8080/",
          "height": 619
        },
        "id": "3S-WlKajXuBY",
        "outputId": "3b36caa7-9827-4a7f-d80c-bfa720e71341"
      },
      "execution_count": null,
      "outputs": [
        {
          "output_type": "execute_result",
          "data": {
            "text/plain": [
              "<function matplotlib.pyplot.show(close=None, block=None)>"
            ],
            "text/html": [
              "<div style=\"max-width:800px; border: 1px solid var(--colab-border-color);\"><style>\n",
              "      pre.function-repr-contents {\n",
              "        overflow-x: auto;\n",
              "        padding: 8px 12px;\n",
              "        max-height: 500px;\n",
              "      }\n",
              "\n",
              "      pre.function-repr-contents.function-repr-contents-collapsed {\n",
              "        cursor: pointer;\n",
              "        max-height: 100px;\n",
              "      }\n",
              "    </style>\n",
              "    <pre style=\"white-space: initial; background:\n",
              "         var(--colab-secondary-surface-color); padding: 8px 12px;\n",
              "         border-bottom: 1px solid var(--colab-border-color);\"><b>matplotlib.pyplot.show</b><br/>def show(*args, **kwargs) -&gt; None</pre><pre class=\"function-repr-contents function-repr-contents-collapsed\" style=\"\"><a class=\"filepath\" style=\"display:none\" href=\"#\">/usr/local/lib/python3.11/dist-packages/matplotlib/pyplot.py</a>Display all open figures.\n",
              "\n",
              "Parameters\n",
              "----------\n",
              "block : bool, optional\n",
              "    Whether to wait for all figures to be closed before returning.\n",
              "\n",
              "    If `True` block and run the GUI main loop until all figure windows\n",
              "    are closed.\n",
              "\n",
              "    If `False` ensure that all figure windows are displayed and return\n",
              "    immediately.  In this case, you are responsible for ensuring\n",
              "    that the event loop is running to have responsive figures.\n",
              "\n",
              "    Defaults to True in non-interactive mode and to False in interactive\n",
              "    mode (see `.pyplot.isinteractive`).\n",
              "\n",
              "See Also\n",
              "--------\n",
              "ion : Enable interactive mode, which shows / updates the figure after\n",
              "      every plotting command, so that calling ``show()`` is not necessary.\n",
              "ioff : Disable interactive mode.\n",
              "savefig : Save the figure to an image file instead of showing it on screen.\n",
              "\n",
              "Notes\n",
              "-----\n",
              "**Saving figures to file and showing a window at the same time**\n",
              "\n",
              "If you want an image file as well as a user interface window, use\n",
              "`.pyplot.savefig` before `.pyplot.show`. At the end of (a blocking)\n",
              "``show()`` the figure is closed and thus unregistered from pyplot. Calling\n",
              "`.pyplot.savefig` afterwards would save a new and thus empty figure. This\n",
              "limitation of command order does not apply if the show is non-blocking or\n",
              "if you keep a reference to the figure and use `.Figure.savefig`.\n",
              "\n",
              "**Auto-show in jupyter notebooks**\n",
              "\n",
              "The jupyter backends (activated via ``%matplotlib inline``,\n",
              "``%matplotlib notebook``, or ``%matplotlib widget``), call ``show()`` at\n",
              "the end of every cell by default. Thus, you usually don&#x27;t have to call it\n",
              "explicitly there.</pre>\n",
              "      <script>\n",
              "      if (google.colab.kernel.accessAllowed && google.colab.files && google.colab.files.view) {\n",
              "        for (const element of document.querySelectorAll('.filepath')) {\n",
              "          element.style.display = 'block'\n",
              "          element.onclick = (event) => {\n",
              "            event.preventDefault();\n",
              "            event.stopPropagation();\n",
              "            google.colab.files.view(element.textContent, 569);\n",
              "          };\n",
              "        }\n",
              "      }\n",
              "      for (const element of document.querySelectorAll('.function-repr-contents')) {\n",
              "        element.onclick = (event) => {\n",
              "          event.preventDefault();\n",
              "          event.stopPropagation();\n",
              "          element.classList.toggle('function-repr-contents-collapsed');\n",
              "        };\n",
              "      }\n",
              "      </script>\n",
              "      </div>"
            ]
          },
          "metadata": {},
          "execution_count": 9
        },
        {
          "output_type": "display_data",
          "data": {
            "text/plain": [
              "<Figure size 640x480 with 1 Axes>"
            ],
            "image/png": "[encoded data removed]"
          },
          "metadata": {}
        }
      ]
    },
    {
      "cell_type": "markdown",
      "source": [
        "<h1>4. Ridge and Lasso Regression</h1>"
      ],
      "metadata": {
        "id": "soiW_GuKb4CJ"
      }
    },
    {
      "cell_type": "code",
      "source": [
        "from sklearn.linear_model import Ridge, Lasso\n",
        "df3=pd.read_csv(r\"/content/drive/MyDrive/ML Datasets/kc_house_data.csv\")\n",
        "df3.isnull().sum()\n",
        "df3['sqft_above']=df3['sqft_above'].fillna(df3['sqft_above'].mean())\n",
        "x=df3.iloc[:,3:]\n",
        "y=df3.iloc[:,2]\n",
        "x_train,x_test,y_train,y_test=train_test_split(x,y,test_size=0.2,random_state=42)\n",
        "regressor=linear_model.LinearRegression()\n",
        "regressor.fit(x_train,y_train)\n",
        "pred=regressor.predict(x_test)\n",
        "print(\"Testing score: r2 score \",r2_score(y_test,pred))\n",
        "\n",
        "ridge_Model=Ridge(alpha=0.1)\n",
        "ridge_Model.fit(x_train,y_train)\n",
        "ridge_pred=ridge_Model.predict(x_test)\n",
        "print(\"Testing score (Ridge): r2 score \",r2_score(y_test,ridge_pred))\n",
        "\n",
        "lasso_model=Lasso(alpha=0.1)\n",
        "lasso_model.fit(x_train,y_train)\n",
        "lasso_pred=lasso_model.predict(x_test)\n",
        "print(\"Testing score (Lasso): r2 score \",r2_score(y_test,lasso_pred))\n",
        "print(\"Ridgeo Model coefficient \",ridge_Model.coef_)\n",
        "print(\"Lasso Model coefficient \",lasso_model.coef_)"
      ],
      "metadata": {
        "id": "tBNkUikcZvyT",
        "colab": {
          "base_uri": "https://localhost:8080/"
        },
        "outputId": "dbb8073e-bf76-4d50-df7f-1f4f2323adc2"
      },
      "execution_count": null,
      "outputs": [
        {
          "output_type": "stream",
          "name": "stdout",
          "text": [
            "Testing score: r2 score  0.7006785748663429\n",
            "Testing score (Ridge): r2 score  0.7006708591636039\n",
            "Testing score (Lasso): r2 score  0.7011928702735307\n",
            "Ridgeo Model coefficient  [-3.43720312e+04  4.45534207e+04 -2.62021567e+03  8.86511786e-02\n",
            "  7.01443801e+03  5.61874325e+05  5.36441160e+04  2.44957273e+04\n",
            "  9.45666755e+04  2.79930585e+03  2.76838356e+03 -2.68152093e+03\n",
            "  2.03988384e+01 -5.52468000e+02  5.95764662e+05 -1.94443439e+05\n",
            "  2.11822477e+01 -3.26025291e-01]\n",
            "Lasso Model coefficient  [-3.43348011e+04  4.45624414e+04  2.79380595e+02  8.88505105e-02\n",
            "  7.00297589e+03  5.62396179e+05  5.36425162e+04  2.45273176e+04\n",
            "  9.45689773e+04 -1.00339472e+02 -1.31373829e+02 -2.68077135e+03\n",
            "  2.04161389e+01 -5.52225220e+02  5.95960555e+05 -1.94577806e+05\n",
            "  2.12118560e+01 -3.25843332e-01]\n"
          ]
        },
        {
          "output_type": "stream",
          "name": "stderr",
          "text": [
            "/usr/local/lib/python3.11/dist-packages/sklearn/linear_model/_coordinate_descent.py:695: ConvergenceWarning: Objective did not converge. You might want to increase the number of iterations, check the scale of the features or consider increasing regularisation. Duality gap: 3.398e+14, tolerance: 2.259e+11\n",
            "  model = cd_fast.enet_coordinate_descent(\n"
          ]
        }
      ]
    },
    {
      "cell_type": "markdown",
      "source": [
        "<h1>5. Polynomial Regression </h1>"
      ],
      "metadata": {
        "id": "TKiX06n3cVek"
      }
    },
    {
      "cell_type": "code",
      "source": [
        "from sklearn.preprocessing import PolynomialFeatures\n",
        "x2=df2.iloc[:,1:2]\n",
        "y2=df2.iloc[:,2:3]\n",
        "lin=linear_model.LinearRegression()\n",
        "lin.fit(x2,y2)\n",
        "\n",
        "poly=PolynomialFeatures(degree=2)\n",
        "x_poly=poly.fit_transform(x2)\n",
        "poly.fit(x_poly,y2)\n",
        "lin2=linear_model.LinearRegression()\n",
        "lin2.fit(x_poly,y2)\n",
        "pred=lin2.predict(x_poly)\n",
        "print(pred)\n",
        "r2=r2_score(y2,pred)\n",
        "print(\"R2 score is: \",r2)"
      ],
      "metadata": {
        "id": "7xKoazbKcbnt",
        "colab": {
          "base_uri": "https://localhost:8080/"
        },
        "outputId": "cecbf2d9-92a7-4f8b-c133-0e4709896d24"
      },
      "execution_count": null,
      "outputs": [
        {
          "output_type": "stream",
          "name": "stdout",
          "text": [
            "[[ 36419.97995933]\n",
            " [ 38279.7051688 ]\n",
            " [ 40140.74178358]\n",
            " [ 44799.07071874]\n",
            " [ 46664.69725209]\n",
            " [ 53204.7174356 ]\n",
            " [ 54140.31743855]\n",
            " [ 56012.50099842]\n",
            " [ 56012.50099842]\n",
            " [ 60698.69729633]\n",
            " [ 62575.47077478]\n",
            " [ 63514.34929099]\n",
            " [ 63514.34929099]\n",
            " [ 64453.55565853]\n",
            " [ 68213.65964195]\n",
            " [ 71979.00924659]\n",
            " [ 73863.65115687]\n",
            " [ 75749.60447246]\n",
            " [ 81415.33285105]\n",
            " [ 82360.76839379]\n",
            " [ 89936.05538347]\n",
            " [ 92782.19755149]\n",
            " [100386.33545789]\n",
            " [103243.29671968]\n",
            " [108011.45584918]\n",
            " [110876.2855428 ]\n",
            " [115657.55872536]\n",
            " [116614.79691585]\n",
            " [123324.64408643]\n",
            " [125244.69393997]]\n",
            "R2 score is:  0.956975168321065\n"
          ]
        }
      ]
    },
    {
      "cell_type": "markdown",
      "source": [
        "<h1>6. Logistic Regression </h1>"
      ],
      "metadata": {
        "id": "bqetyHGucco8"
      }
    },
    {
      "cell_type": "markdown",
      "source": [
        "<h4> With Library </h4>"
      ],
      "metadata": {
        "id": "FjWX6EOYhaU_"
      }
    },
    {
      "cell_type": "code",
      "source": [
        "df4=read_csv(r\"/content/drive/MyDrive/ML Datasets/diabetes.csv\")\n",
        "X=df4.iloc[:,:-1]\n",
        "y=df4.iloc[:,-1]\n",
        "list1=['lbfgs', 'liblinear', 'newton-cg', 'newton-cholesky', 'sag', 'saga']\n",
        "X_train,X_test,y_train,y_test=train_test_split(X,y,test_size=0.25,random_state=1)\n",
        "for i in list1:\n",
        "  reg=linear_model.LogisticRegression(max_iter=1000,random_state=0,solver=i, C=1,fit_intercept=True,tol=0.0001, intercept_scaling=1, class_weight=None,)\n",
        "  reg.fit(X_train,y_train)\n",
        "  y_pred=reg.predict(X_test)\n",
        "  print(\"Accuracy: \",metrics.accuracy_score(y_test,y_pred))\n",
        "  print(\"Confusion Matrix: \\n\",metrics.confusion_matrix(y_test,y_pred))\n",
        "  #print(metrics.classification_report(y_test,y_pred))"
      ],
      "metadata": {
        "id": "sYwnQf3lci4D",
        "colab": {
          "base_uri": "https://localhost:8080/"
        },
        "outputId": "06dbf02b-e430-4527-b14c-fb2c27f0a501"
      },
      "execution_count": null,
      "outputs": [
        {
          "output_type": "stream",
          "name": "stdout",
          "text": [
            "Accuracy:  0.7760416666666666\n",
            "Confusion Matrix: \n",
            " [[109  14]\n",
            " [ 29  40]]\n",
            "Accuracy:  0.78125\n",
            "Confusion Matrix: \n",
            " [[110  13]\n",
            " [ 29  40]]\n",
            "Accuracy:  0.7760416666666666\n",
            "Confusion Matrix: \n",
            " [[109  14]\n",
            " [ 29  40]]\n",
            "Accuracy:  0.7760416666666666\n",
            "Confusion Matrix: \n",
            " [[109  14]\n",
            " [ 29  40]]\n",
            "Accuracy:  0.6822916666666666\n",
            "Confusion Matrix: \n",
            " [[108  15]\n",
            " [ 46  23]]\n",
            "Accuracy:  0.6770833333333334\n",
            "Confusion Matrix: \n",
            " [[108  15]\n",
            " [ 47  22]]\n"
          ]
        },
        {
          "output_type": "stream",
          "name": "stderr",
          "text": [
            "/usr/local/lib/python3.11/dist-packages/sklearn/linear_model/_sag.py:348: ConvergenceWarning: The max_iter was reached which means the coef_ did not converge\n",
            "  warnings.warn(\n"
          ]
        }
      ]
    },
    {
      "cell_type": "markdown",
      "source": [
        "<h4> Without Library</h4>"
      ],
      "metadata": {
        "id": "7iQpIu6qhg86"
      }
    },
    {
      "cell_type": "code",
      "source": [
        "diabetes =datasets.load_diabetes()\n",
        "x=diabetes.data\n",
        "y=diabetes.target\n",
        "threshold=y.mean()\n",
        "y=(y>threshold).astype(int)\n",
        "x_train,x_test,y_train,y_test=train_test_split(x,y,test_size=0.2,random_state=42)\n",
        "\n",
        "m,n=x_train.shape\n",
        "w=np.zeros(n)+0.2  #or w=np.zero()+0.2\n",
        "b=0\n",
        "alpha=0.01\n",
        "epochs=4000\n",
        "\n",
        "def sigmoid(z):\n",
        "  return 1/(1+np.exp(-z))\n",
        "\n",
        "def binary_cross_entropy(y_true,y_pred):\n",
        "  epsilon=1e-8 #to avoid log(0)\n",
        "  return -np.mean(y_true*np.log(y_pred+epsilon)+(1-y_true)*np.log(1-y_pred+epsilon))\n",
        "\n",
        "losses=[]\n",
        "#alp=[0.01,0.05,1]\n",
        "\n",
        "for epoch in range(epochs):\n",
        "  z=np.dot(x_train,w)+b\n",
        "  predictions=sigmoid(z)\n",
        "  dw=(1/m)*np.dot(x_train.T,(predictions-y_train))\n",
        "  db=(1/m)*np.sum(predictions-y_train)\n",
        "  w-=alpha*dw\n",
        "  b-=alpha*db\n",
        "  loss=binary_cross_entropy(y_train,predictions)\n",
        "  losses.append(loss)\n",
        "\n",
        "  if(epoch%100==0):\n",
        "    print(f\"Epoch: {epoch}, Loss: {loss:.4f}\")\n",
        "\n",
        "z_test=np.dot(x_test,w)+b\n",
        "y_pred=sigmoid(z_test)\n",
        "y_pred_class=(y_pred>0.5).astype(int)\n",
        "\n",
        "accuracy=np.mean(y_pred_class==y_test)\n",
        "print(f\"\\nAccuracy: {accuracy*100:.4f}%\")\n",
        "print(\"Confusion Matrix: \\n\",metrics.confusion_matrix(y_test,y_pred_class))\n",
        "print(\"Classification Report: \\n\",metrics.classification_report(y_test,y_pred_class))\n",
        "\n",
        "plt.plot(losses)\n",
        "plt.xlabel(\"Epochs\")\n",
        "plt.ylabel(\"Bijnary cross entropy Loss\")\n",
        "plt.title(\"Training loss curve\")\n",
        "plt.show()"
      ],
      "metadata": {
        "colab": {
          "base_uri": "https://localhost:8080/",
          "height": 1000
        },
        "id": "fYtKO5k2Fggy",
        "outputId": "645f8a4a-9c11-43e3-fe87-37bf2dfbe3a7"
      },
      "execution_count": null,
      "outputs": [
        {
          "output_type": "stream",
          "name": "stdout",
          "text": [
            "Epoch: 0, Loss: 0.6830\n",
            "Epoch: 100, Loss: 0.6798\n",
            "Epoch: 200, Loss: 0.6777\n",
            "Epoch: 300, Loss: 0.6762\n",
            "Epoch: 400, Loss: 0.6751\n",
            "Epoch: 500, Loss: 0.6742\n",
            "Epoch: 600, Loss: 0.6735\n",
            "Epoch: 700, Loss: 0.6729\n",
            "Epoch: 800, Loss: 0.6723\n",
            "Epoch: 900, Loss: 0.6718\n",
            "Epoch: 1000, Loss: 0.6712\n",
            "Epoch: 1100, Loss: 0.6707\n",
            "Epoch: 1200, Loss: 0.6702\n",
            "Epoch: 1300, Loss: 0.6697\n",
            "Epoch: 1400, Loss: 0.6692\n",
            "Epoch: 1500, Loss: 0.6687\n",
            "Epoch: 1600, Loss: 0.6683\n",
            "Epoch: 1700, Loss: 0.6678\n",
            "Epoch: 1800, Loss: 0.6673\n",
            "Epoch: 1900, Loss: 0.6668\n",
            "Epoch: 2000, Loss: 0.6664\n",
            "Epoch: 2100, Loss: 0.6659\n",
            "Epoch: 2200, Loss: 0.6654\n",
            "Epoch: 2300, Loss: 0.6649\n",
            "Epoch: 2400, Loss: 0.6645\n",
            "Epoch: 2500, Loss: 0.6640\n",
            "Epoch: 2600, Loss: 0.6635\n",
            "Epoch: 2700, Loss: 0.6631\n",
            "Epoch: 2800, Loss: 0.6626\n",
            "Epoch: 2900, Loss: 0.6622\n",
            "Epoch: 3000, Loss: 0.6617\n",
            "Epoch: 3100, Loss: 0.6612\n",
            "Epoch: 3200, Loss: 0.6608\n",
            "Epoch: 3300, Loss: 0.6603\n",
            "Epoch: 3400, Loss: 0.6599\n",
            "Epoch: 3500, Loss: 0.6594\n",
            "Epoch: 3600, Loss: 0.6590\n",
            "Epoch: 3700, Loss: 0.6586\n",
            "Epoch: 3800, Loss: 0.6581\n",
            "Epoch: 3900, Loss: 0.6577\n",
            "\n",
            "Accuracy: 57.3034%\n",
            "Confusion Matrix: \n",
            " [[50  0]\n",
            " [38  1]]\n",
            "Classification Report: \n",
            "               precision    recall  f1-score   support\n",
            "\n",
            "           0       0.57      1.00      0.72        50\n",
            "           1       1.00      0.03      0.05        39\n",
            "\n",
            "    accuracy                           0.57        89\n",
            "   macro avg       0.78      0.51      0.39        89\n",
            "weighted avg       0.76      0.57      0.43        89\n",
            "\n"
          ]
        },
        {
          "output_type": "display_data",
          "data": {
            "text/plain": [
              "<Figure size 640x480 with 1 Axes>"
            ],
            "image/png": "[encoded data removed]"
          },
          "metadata": {}
        }
      ]
    },
    {
      "cell_type": "markdown",
      "source": [
        "<h1>7. Naive Bayes Classifier </h1>"
      ],
      "metadata": {
        "id": "8N0ZDuAvm5LP"
      }
    },
    {
      "cell_type": "code",
      "source": [
        "from sklearn.naive_bayes import GaussianNB\n",
        "from sklearn import datasets\n",
        "import seaborn as sns\n",
        "from sklearn.preprocessing import LabelEncoder\n",
        "from sklearn.metrics import accuracy_score, confusion_matrix, classification_report\n",
        "#try:\n",
        " # df=pd.read_csv('titanic_csv')\n",
        "#except:\n",
        "df=sns.load_dataset('titanic')\n",
        "\n",
        "features=['pclass','sex','age','class','adult_male','alone']\n",
        "df=df[features+['survived']].copy()\n",
        "\n",
        "df['age'].fillna(df['age'].median(),inplace=True)\n",
        "\n",
        "#converting categorical values:\n",
        "Le=LabelEncoder()\n",
        "df['sex']=Le.fit_transform(df['sex'])\n",
        "df['class']=Le.fit_transform(df['class'])\n",
        "df['adult_male']=Le.fit_transform(df['adult_male'])\n",
        "#df['alive']=Le.fit_transform(df['alive'])\n",
        "df['alone']=Le.fit_transform(df['alone'])\n",
        "x_train,x_test,y_train,y_test=train_test_split(df[features],df['survived'],test_size=0.6,random_state=0)\n",
        "gnb=GaussianNB()\n",
        "y_pred=gnb.fit(x_train,y_train).predict(x_test)\n",
        "print(accuracy_score(y_test,y_pred))\n",
        "print(confusion_matrix(y_test,y_pred))\n",
        "print(classification_report(y_test,y_pred))\n",
        "\n",
        "#Example Prediction\n",
        "\"\"\"example=pd.DataFrame({\n",
        "    'pclass':[1],\n",
        "    'sex':[1],\n",
        "    'age':[24],\n",
        "    'class':[1],\n",
        "    'adult_male':[1],\n",
        "    'alive':[1],\n",
        "    'alone':[0]\n",
        "})\n",
        "prediction=gnb.predict(example)\n",
        "print(\"\\nExample Prediction: \",\"SURVIVED\" if prediction[0]==1 else \"Did not Survive\")\"\"\""
      ],
      "metadata": {
        "colab": {
          "base_uri": "https://localhost:8080/",
          "height": 403
        },
        "id": "-59S9Ps4m8yb",
        "outputId": "77fd06b3-04b5-49ad-e6a8-60347f8edf46",
        "collapsed": true
      },
      "execution_count": null,
      "outputs": [
        {
          "output_type": "stream",
          "name": "stdout",
          "text": [
            "0.7644859813084112\n",
            "[[257  84]\n",
            " [ 42 152]]\n",
            "              precision    recall  f1-score   support\n",
            "\n",
            "           0       0.86      0.75      0.80       341\n",
            "           1       0.64      0.78      0.71       194\n",
            "\n",
            "    accuracy                           0.76       535\n",
            "   macro avg       0.75      0.77      0.76       535\n",
            "weighted avg       0.78      0.76      0.77       535\n",
            "\n"
          ]
        },
        {
          "output_type": "stream",
          "name": "stderr",
          "text": [
            "<ipython-input-14-a22d16dee485>:14: FutureWarning: A value is trying to be set on a copy of a DataFrame or Series through chained assignment using an inplace method.\n",
            "The behavior will change in pandas 3.0. This inplace method will never work because the intermediate object on which we are setting values always behaves as a copy.\n",
            "\n",
            "For example, when doing 'df[col].method(value, inplace=True)', try using 'df.method({col: value}, inplace=True)' or df[col] = df[col].method(value) instead, to perform the operation inplace on the original object.\n",
            "\n",
            "\n",
            "  df['age'].fillna(df['age'].median(),inplace=True)\n"
          ]
        },
        {
          "output_type": "execute_result",
          "data": {
            "text/plain": [
              "'example=pd.DataFrame({\\n    \\'pclass\\':[1],\\n    \\'sex\\':[1],\\n    \\'age\\':[24],\\n    \\'class\\':[1],\\n    \\'adult_male\\':[1],\\n    \\'alive\\':[1],\\n    \\'alone\\':[0]\\n})\\nprediction=gnb.predict(example)\\nprint(\"\\nExample Prediction: \",\"SURVIVED\" if prediction[0]==1 else \"Did not Survive\")'"
            ],
            "application/vnd.google.colaboratory.intrinsic+json": {
              "type": "string"
            }
          },
          "metadata": {},
          "execution_count": 14
        }
      ]
    },
    {
      "cell_type": "markdown",
      "source": [
        "<h1>8. Artificial Neural Network </h1>"
      ],
      "metadata": {
        "id": "09xqeHmX-pNM"
      }
    },
    {
      "cell_type": "code",
      "source": [
        "from joblib.numpy_pickle_utils import xrange\n",
        "from numpy import *\n",
        "\n",
        "class NeuralNet(object):\n",
        "    def __init__(self):\n",
        "        # Generate random numbers\n",
        "        random.seed(1)\n",
        "\n",
        "        # Assign random weights to a 3 x 1 matrix,\n",
        "        self.synaptic_weights = 2 * random.random((3, 1)) - 1\n",
        "\n",
        "    # The Sigmoid function\n",
        "    def __sigmoid(self, x):\n",
        "        return 1 / (1 + exp(-x))\n",
        "\n",
        "    # The derivative of the Sigmoid function.\n",
        "    # This is the gradient of the Sigmoid curve.\n",
        "    def __sigmoid_derivative(self, x):\n",
        "        return x * (1 - x)\n",
        "\n",
        "    # Train the neural network and adjust the weights each time.\n",
        "    def train(self, inputs, outputs, training_iterations):\n",
        "        for iteration in xrange(training_iterations):\n",
        "            # Pass the training set through the network.\n",
        "            output = self.learn(inputs)\n",
        "\n",
        "            # Calculate the error\n",
        "            error = outputs - output\n",
        "\n",
        "            # Adjust the weights by a factor\n",
        "            factor = dot(inputs.T, error * self.__sigmoid_derivative(output))\n",
        "            self.synaptic_weights += factor\n",
        "\n",
        "        # The neural network thinks.\n",
        "\n",
        "    def learn(self, inputs):\n",
        "        return self.__sigmoid(dot(inputs, self.synaptic_weights))\n",
        "\n",
        "if __name__ == \"__main__\":\n",
        "    # Initialize\n",
        "    neural_network = NeuralNet()\n",
        "\n",
        "    # The training set.\n",
        "    inputs = array([[0, 1, 1], [1, 0, 0], [1, 0, 1]])\n",
        "    outputs = array([[1, 0, 1]]).T\n",
        "\n",
        "    # Train the neural network\n",
        "    neural_network.train(inputs, outputs, 10000)\n",
        "\n",
        "    # Test the neural network with a test example.\n",
        "    print(neural_network.learn(array([1, 0, 1])))"
      ],
      "metadata": {
        "id": "zNSAgAnu-wMX",
        "colab": {
          "base_uri": "https://localhost:8080/"
        },
        "outputId": "d1dd1682-ad83-4d86-b87d-8370ac464441"
      },
      "execution_count": null,
      "outputs": [
        {
          "output_type": "stream",
          "name": "stdout",
          "text": [
            "[0.9897704]\n"
          ]
        }
      ]
    },
    {
      "cell_type": "markdown",
      "source": [
        "<h1>9. KNN Classifier</h1>"
      ],
      "metadata": {
        "id": "L6ZKkC8ScpJh"
      }
    },
    {
      "cell_type": "markdown",
      "source": [
        "<h4>Without using Library</h4>"
      ],
      "metadata": {
        "id": "EBMa0g0fGPs3"
      }
    },
    {
      "cell_type": "code",
      "source": [
        "from sklearn.datasets import load_iris\n",
        "iris_data = load_iris()\n",
        "x = iris_data.data\n",
        "y = iris_data.target\n",
        "print(\"name\",iris_data.target_names)\n",
        "\n",
        "x_train,x_test,y_train,y_test = train_test_split(x,y,test_size=0.2,random_state=42)\n",
        "\n",
        "feature_means = np.mean(x_train, axis=0)\n",
        "feature_stds = np.std(x_train, axis=0)\n",
        "\n",
        "x_train_std = (x_train - feature_means) / feature_stds\n",
        "x_test_std = (x_test - feature_means) / feature_stds\n",
        "\n",
        "def knn_predict(x_train,y_train,x_test,k):\n",
        "    predictions = []\n",
        "    for test_point in x_test:\n",
        "        distances = np.sqrt(np.sum((x_train - test_point)**2,axis=1))\n",
        "        nearest_indices = np.argsort(distances)[:k]\n",
        "        nearest_labels = y_train[nearest_indices]\n",
        "\n",
        "        unique, counts = np.unique(nearest_labels, return_counts=True)\n",
        "        prediction = unique[np.argmax(counts)]\n",
        "        predictions.append(prediction)\n",
        "    return np.array(predictions)\n",
        "knn_predictions = knn_predict(x_train_std, y_train, x_test_std, k=3)\n",
        "accuracy = accuracy_score(y_test, knn_predictions)\n",
        "print(\"Accuracy:\", accuracy)\n",
        "print(\"knn_prediction: \", knn_predictions)\n",
        "print(\"Confusion Matrix: \\n\",metrics.confusion_matrix(y_test,knn_predictions))\n",
        "print(\"Classification Report: \\n\",metrics.classification_report(y_test,knn_predictions))"
      ],
      "metadata": {
        "id": "n0uVFEuu-2PP",
        "colab": {
          "base_uri": "https://localhost:8080/"
        },
        "outputId": "c09b1b66-c8d2-4352-a487-318c098853b5"
      },
      "execution_count": null,
      "outputs": [
        {
          "output_type": "stream",
          "name": "stdout",
          "text": [
            "name ['setosa' 'versicolor' 'virginica']\n",
            "Accuracy: 1.0\n",
            "knn_prediction:  [1 0 2 1 1 0 1 2 1 1 2 0 0 0 0 1 2 1 1 2 0 2 0 2 2 2 2 2 0 0]\n",
            "Confusion Matrix: \n",
            " [[10  0  0]\n",
            " [ 0  9  0]\n",
            " [ 0  0 11]]\n",
            "Classification Report: \n",
            "               precision    recall  f1-score   support\n",
            "\n",
            "           0       1.00      1.00      1.00        10\n",
            "           1       1.00      1.00      1.00         9\n",
            "           2       1.00      1.00      1.00        11\n",
            "\n",
            "    accuracy                           1.00        30\n",
            "   macro avg       1.00      1.00      1.00        30\n",
            "weighted avg       1.00      1.00      1.00        30\n",
            "\n"
          ]
        }
      ]
    },
    {
      "cell_type": "markdown",
      "source": [
        "<h4>Using Library</h4>"
      ],
      "metadata": {
        "id": "lfm-CrTkGVTY"
      }
    },
    {
      "cell_type": "code",
      "source": [
        "from sklearn.neighbors import KNeighborsClassifier\n",
        "knn = KNeighborsClassifier(n_neighbors=3)\n",
        "knn.fit(x_train_std, y_train)\n",
        "sklearn_predictions = knn.predict(x_test_std)\n",
        "sklearn_accuracy = accuracy_score(y_test, sklearn_predictions)\n",
        "print(\"Accuracy:\", sklearn_accuracy)\n",
        "print(\"sklearn_prediction: \", sklearn_predictions)\n",
        "print(\"Confusion Matrix: \\n\",metrics.confusion_matrix(y_test,sklearn_predictions))\n",
        "print(\"Classification Report: \\n\",metrics.classification_report(y_test,sklearn_predictions))"
      ],
      "metadata": {
        "colab": {
          "base_uri": "https://localhost:8080/"
        },
        "id": "ZRfgXWf0GaFY",
        "outputId": "4d4bcfa0-1c9f-4661-cd9e-d1432a1463ea"
      },
      "execution_count": null,
      "outputs": [
        {
          "output_type": "stream",
          "name": "stdout",
          "text": [
            "Accuracy: 1.0\n",
            "sklearn_prediction:  [1 0 2 1 1 0 1 2 1 1 2 0 0 0 0 1 2 1 1 2 0 2 0 2 2 2 2 2 0 0]\n",
            "Confusion Matrix: \n",
            " [[10  0  0]\n",
            " [ 0  9  0]\n",
            " [ 0  0 11]]\n",
            "Classification Report: \n",
            "               precision    recall  f1-score   support\n",
            "\n",
            "           0       1.00      1.00      1.00        10\n",
            "           1       1.00      1.00      1.00         9\n",
            "           2       1.00      1.00      1.00        11\n",
            "\n",
            "    accuracy                           1.00        30\n",
            "   macro avg       1.00      1.00      1.00        30\n",
            "weighted avg       1.00      1.00      1.00        30\n",
            "\n"
          ]
        }
      ]
    },
    {
      "cell_type": "markdown",
      "source": [
        "<h1>10. Decision Tree Classification</h1>"
      ],
      "metadata": {
        "id": "bgTq7i3ycjj_"
      }
    },
    {
      "cell_type": "code",
      "source": [
        "from sklearn.tree import DecisionTreeClassifier\n",
        "from sklearn.tree import plot_tree\n",
        "iris=datasets.load_iris()\n",
        "x=iris.data\n",
        "y=iris.target\n",
        "x_train,x_test,y_train,y_test=train_test_split(x,y,test_size=0.2,random_state=1)\n",
        "clf=DecisionTreeClassifier(max_features=1,criterion= \"log_loss\")\n",
        "clf=clf.fit(x_train,y_train)\n",
        "y_pred=clf.predict(x_test)\n",
        "print(\"Accuracy:\",metrics.accuracy_score(y_test,y_pred))\n",
        "cm=metrics.confusion_matrix(y_test,y_pred)\n",
        "print(\"Confusion Matrix: \\n\",cm)\n",
        "print(\"Classification Report: \\n\",metrics.classification_report(y_test,y_pred))\n",
        "plt.figure(figsize=(12, 8))\n",
        "plot_tree(clf,\n",
        "          feature_names=iris.feature_names,\n",
        "          class_names=iris.target_names,\n",
        "          filled=True,\n",
        "          rounded=True)\n",
        "plt.title(\"Decision Tree - Iris Dataset\")\n",
        "plt.show()"
      ],
      "metadata": {
        "id": "JLPxIHDJcofW",
        "colab": {
          "base_uri": "https://localhost:8080/",
          "height": 953
        },
        "outputId": "d68da3d1-22ac-4c18-d184-7b3690bc551c"
      },
      "execution_count": null,
      "outputs": [
        {
          "output_type": "stream",
          "name": "stdout",
          "text": [
            "Accuracy: 0.9666666666666667\n",
            "Confusion Matrix: \n",
            " [[11  0  0]\n",
            " [ 0 12  1]\n",
            " [ 0  0  6]]\n",
            "Classification Report: \n",
            "               precision    recall  f1-score   support\n",
            "\n",
            "           0       1.00      1.00      1.00        11\n",
            "           1       1.00      0.92      0.96        13\n",
            "           2       0.86      1.00      0.92         6\n",
            "\n",
            "    accuracy                           0.97        30\n",
            "   macro avg       0.95      0.97      0.96        30\n",
            "weighted avg       0.97      0.97      0.97        30\n",
            "\n"
          ]
        },
        {
          "output_type": "display_data",
          "data": {
            "text/plain": [
              "<Figure size 1200x800 with 1 Axes>"
            ],
            "image/png": "[encoded data removed]"
          },
          "metadata": {}
        }
      ]
    },
    {
      "cell_type": "markdown",
      "source": [
        "<h1>11. SVM Classification</h1>"
      ],
      "metadata": {
        "id": "fAUlQWgz-8wA"
      }
    },
    {
      "cell_type": "code",
      "source": [
        "import pandas as pd\n",
        "from sklearn.datasets import load_breast_cancer\n",
        "from sklearn.model_selection import train_test_split\n",
        "from sklearn.preprocessing import StandardScaler\n",
        "from sklearn.svm import SVC\n",
        "from sklearn.metrics import (\n",
        "    confusion_matrix, accuracy_score, recall_score, precision_score,\n",
        "    f1_score, roc_auc_score\n",
        ")\n",
        "\n",
        "# Load dataset\n",
        "classification_data = load_breast_cancer()\n",
        "X = pd.DataFrame(classification_data.data, columns=classification_data.feature_names)\n",
        "y = pd.Series(classification_data.target)\n",
        "\n",
        "# Scale features\n",
        "scaler = StandardScaler()\n",
        "X_scaled = scaler.fit_transform(X)\n",
        "\n",
        "# Split data\n",
        "X_train, X_test, y_train, y_test = train_test_split(X_scaled, y, test_size=0.2, random_state=42)\n",
        "\n",
        "# Train SVM model\n",
        "model = SVC(probability=True)\n",
        "model.fit(X_train, y_train)\n",
        "y_pred = model.predict(X_test)\n",
        "y_proba = model.predict_proba(X_test)[:, 1]\n",
        "\n",
        "# Calculate metrics\n",
        "conf_matrix = confusion_matrix(y_test, y_pred)\n",
        "TN, FP, FN, TP = conf_matrix.ravel()\n",
        "accuracy = accuracy_score(y_test, y_pred)\n",
        "recall = recall_score(y_test, y_pred)\n",
        "precision = precision_score(y_test, y_pred)\n",
        "specificity = TN / (TN + FP)\n",
        "f1 = f1_score(y_test, y_pred)\n",
        "auc = roc_auc_score(y_test, y_proba)\n",
        "\n",
        "# Print results\n",
        "print(\"SVM Classification Metrics:\")\n",
        "print(f\"Accuracy: {accuracy:.4f}\")\n",
        "print(f\"TP: {TP}, TN: {TN}, FP: {FP}, FN: {FN}\")\n",
        "print(f\"Recall: {recall:.4f}\")\n",
        "print(f\"Specificity: {specificity:.4f}\")\n",
        "print(f\"F1 Score: {f1:.4f}\")\n",
        "print(f\"AUC: {auc:.4f}\")"
      ],
      "metadata": {
        "colab": {
          "base_uri": "https://localhost:8080/"
        },
        "id": "WSDT_NWSyymm",
        "outputId": "a0a35f64-294c-4a0d-945f-23b339d3bb70"
      },
      "execution_count": null,
      "outputs": [
        {
          "output_type": "stream",
          "name": "stdout",
          "text": [
            "SVM Classification Metrics:\n",
            "Accuracy: 0.9737\n",
            "TP: 70, TN: 41, FP: 2, FN: 1\n",
            "Recall: 0.9859\n",
            "Specificity: 0.9535\n",
            "F1 Score: 0.9790\n",
            "AUC: 0.9974\n"
          ]
        }
      ]
    },
    {
      "cell_type": "markdown",
      "source": [
        "<h1>12. K-means Clustering</h1>"
      ],
      "metadata": {
        "id": "qxzM3baz_GAi"
      }
    },
    {
      "cell_type": "code",
      "source": [
        "from sklearn.cluster import KMeans\n",
        "from scipy.stats import mode\n",
        "\n",
        "# Load dataset\n",
        "clustering_data = load_breast_cancer()\n",
        "X = pd.DataFrame(clustering_data.data, columns=clustering_data.feature_names)\n",
        "y_true = pd.Series(clustering_data.target)\n",
        "\n",
        "# Scale features\n",
        "scaler = StandardScaler()\n",
        "X_scaled = scaler.fit_transform(X)\n",
        "\n",
        "# K-Means Clustering\n",
        "kmeans = KMeans(n_clusters=2, random_state=42)\n",
        "kmeans_labels = kmeans.fit_predict(X_scaled)\n",
        "\n",
        "# Map clusters to actual labels based on majority vote\n",
        "mapped_labels = pd.Series(kmeans_labels)\n",
        "mapping = {}\n",
        "for cluster in [0, 1]:\n",
        "    true_label = mode(y_true[mapped_labels == cluster], keepdims=True).mode[0]\n",
        "    mapping[cluster] = true_label\n",
        "mapped_preds = mapped_labels.map(mapping)\n",
        "\n",
        "# Calculate metrics\n",
        "conf_matrix = confusion_matrix(y_true, mapped_preds)\n",
        "TN, FP, FN, TP = conf_matrix.ravel()\n",
        "accuracy = accuracy_score(y_true, mapped_preds)\n",
        "recall = recall_score(y_true, mapped_preds)\n",
        "precision = precision_score(y_true, mapped_preds)\n",
        "specificity = TN / (TN + FP)\n",
        "f1 = f1_score(y_true, mapped_preds)\n",
        "auc = roc_auc_score(y_true, mapped_preds)\n",
        "\n",
        "# Print results\n",
        "print(\"K-Means Clustering with Metrics:\")\n",
        "print(f\"Accuracy: {accuracy:.4f}\")\n",
        "print(f\"TP: {TP}, TN: {TN}, FP: {FP}, FN: {FN}\")\n",
        "print(f\"Recall: {recall:.4f}\")\n",
        "print(f\"Specificity: {specificity:.4f}\")\n",
        "print(f\"F1 Score: {f1:.4f}\")\n",
        "print(f\"AUC: {auc:.4f}\")"
      ],
      "metadata": {
        "id": "-jgJFYuxcwAF",
        "colab": {
          "base_uri": "https://localhost:8080/"
        },
        "outputId": "496bace3-ab86-4f02-b39e-979f138e4a57"
      },
      "execution_count": null,
      "outputs": [
        {
          "output_type": "stream",
          "name": "stdout",
          "text": [
            "K-Means Clustering with Metrics:\n",
            "Accuracy: 0.9121\n",
            "TP: 344, TN: 175, FP: 37, FN: 13\n",
            "Recall: 0.9636\n",
            "Specificity: 0.8255\n",
            "F1 Score: 0.9322\n",
            "AUC: 0.8945\n"
          ]
        }
      ]
    },
    {
      "cell_type": "markdown",
      "source": [
        "<h1>13. Hierarchical Clustering</h1>"
      ],
      "metadata": {
        "id": "-GiHNCjT_OKA"
      }
    },
    {
      "cell_type": "code",
      "source": [
        "from sklearn.cluster import AgglomerativeClustering\n",
        "\n",
        "# Load dataset\n",
        "clustering_data = load_breast_cancer()\n",
        "X = pd.DataFrame(clustering_data.data, columns=clustering_data.feature_names)\n",
        "y_true = pd.Series(clustering_data.target)\n",
        "\n",
        "# Scale features\n",
        "scaler = StandardScaler()\n",
        "X_scaled = scaler.fit_transform(X)\n",
        "\n",
        "# Hierarchical Clustering\n",
        "hierarchical = AgglomerativeClustering(n_clusters=2)\n",
        "hierarchical_labels = hierarchical.fit_predict(X_scaled)\n",
        "\n",
        "# Map clusters to actual labels based on majority vote\n",
        "mapped_labels = pd.Series(hierarchical_labels)\n",
        "mapping = {}\n",
        "for cluster in [0, 1]:\n",
        "    true_label = mode(y_true[mapped_labels == cluster], keepdims=True).mode[0]\n",
        "    mapping[cluster] = true_label\n",
        "mapped_preds = mapped_labels.map(mapping)\n",
        "\n",
        "# Calculate metrics\n",
        "conf_matrix = confusion_matrix(y_true, mapped_preds)\n",
        "TN, FP, FN, TP = conf_matrix.ravel()\n",
        "accuracy = accuracy_score(y_true, mapped_preds)\n",
        "recall = recall_score(y_true, mapped_preds)\n",
        "precision = precision_score(y_true, mapped_preds)\n",
        "specificity = TN / (TN + FP)\n",
        "f1 = f1_score(y_true, mapped_preds)\n",
        "auc = roc_auc_score(y_true, mapped_preds)\n",
        "\n",
        "# Print results\n",
        "print(\"Hierarchical Clustering with Metrics:\")\n",
        "print(f\"Accuracy: {accuracy:.4f}\")\n",
        "print(f\"TP: {TP}, TN: {TN}, FP: {FP}, FN: {FN}\")\n",
        "print(f\"Recall: {recall:.4f}\")\n",
        "print(f\"Specificity: {specificity:.4f}\")\n",
        "print(f\"F1 Score: {f1:.4f}\")\n",
        "print(f\"AUC: {auc:.4f}\")"
      ],
      "metadata": {
        "id": "aV8_1Qx4mris",
        "colab": {
          "base_uri": "https://localhost:8080/"
        },
        "outputId": "5248e838-fd39-4111-d84d-7f680ca469d1"
      },
      "execution_count": null,
      "outputs": [
        {
          "output_type": "stream",
          "name": "stdout",
          "text": [
            "Hierarchical Clustering with Metrics:\n",
            "Accuracy: 0.8805\n",
            "TP: 337, TN: 164, FP: 48, FN: 20\n",
            "Recall: 0.9440\n",
            "Specificity: 0.7736\n",
            "F1 Score: 0.9084\n",
            "AUC: 0.8588\n"
          ]
        }
      ]
    },
    {
      "cell_type": "markdown",
      "source": [
        "<h1> EXTRA"
      ],
      "metadata": {
        "id": "P1H2OgKcql8d"
      }
    },
    {
      "cell_type": "code",
      "source": [
        "import random\n",
        "import numpy as np\n",
        "\n",
        "def euclidean_distance(a, b):\n",
        "    return np.sqrt(np.sum((a - b) ** 2))\n",
        "\n",
        "def initialize_centroids(points, k):\n",
        "    # Randomly choose k points as initial centroids\n",
        "    return points[random.sample(range(len(points)), k)]\n",
        "\n",
        "def assign_clusters(points, centroids):\n",
        "    clusters = [[] for _ in centroids]\n",
        "    for point in points:\n",
        "        distances = [euclidean_distance(point, centroid) for centroid in centroids]\n",
        "        cluster_idx = np.argmin(distances)\n",
        "        clusters[cluster_idx].append(point)\n",
        "    return clusters\n",
        "\n",
        "def update_centroids(clusters):\n",
        "    return [np.mean(cluster, axis=0) if len(cluster) > 0 else np.zeros_like(clusters[0][0]) for cluster in clusters]\n",
        "\n",
        "def has_converged(old_centroids, new_centroids, tol=1e-4):\n",
        "    distances = [euclidean_distance(old, new) for old, new in zip(old_centroids, new_centroids)]\n",
        "    return all(dist < tol for dist in distances)\n",
        "\n",
        "def k_means(points, k, max_iterations=100):\n",
        "    points = np.array(points)\n",
        "    centroids = initialize_centroids(points, k)\n",
        "\n",
        "    for _ in range(max_iterations):\n",
        "        clusters = assign_clusters(points, centroids)\n",
        "        new_centroids = update_centroids(clusters)\n",
        "\n",
        "        if has_converged(centroids, new_centroids):\n",
        "            break\n",
        "\n",
        "        centroids = new_centroids\n",
        "\n",
        "    # Return cluster assignment and centroids\n",
        "    labels = np.zeros(len(points))\n",
        "    for cluster_idx, cluster in enumerate(clusters):\n",
        "        for point in cluster:\n",
        "            point_idx = np.where((points == point).all(axis=1))[0][0]\n",
        "            labels[point_idx] = cluster_idx\n",
        "    return labels, centroids\n",
        "\n",
        "# Example usage\n",
        "if __name__ == \"__main__\":\n",
        "    # Sample 2D data\n",
        "    data = np.array([\n",
        "        [1, 2], [1.5, 1.8], [5, 8],\n",
        "        [8, 8], [1, 0.6], [9, 11],\n",
        "        [8, 2], [10, 2], [9, 3]\n",
        "    ])\n",
        "    k = 3\n",
        "    labels, centroids = k_means(data, k)\n",
        "    print(\"Labels:\", labels)\n",
        "    print(\"Centroids:\", centroids)\n"
      ],
      "metadata": {
        "id": "ViNMu4DQXgrk",
        "colab": {
          "base_uri": "https://localhost:8080/"
        },
        "outputId": "d20b59ee-b730-4e24-da1b-16bf6ab7a773"
      },
      "execution_count": 1,
      "outputs": [
        {
          "output_type": "stream",
          "name": "stdout",
          "text": [
            "Labels: [2. 2. 1. 1. 2. 1. 0. 0. 0.]\n",
            "Centroids: [array([9.        , 2.33333333]), array([7.33333333, 9.        ]), array([1.16666667, 1.46666667])]\n"
          ]
        }
      ]
    },
    {
      "cell_type": "code",
      "source": [
        "import numpy as np\n",
        "from collections import Counter\n",
        "\n",
        "def euclidean_distance(a, b):\n",
        "    return np.sqrt(np.sum((a - b) ** 2))\n",
        "\n",
        "class KNN:\n",
        "    def __init__(self, k=3):\n",
        "        self.k = k\n",
        "\n",
        "    def fit(self, X_train, y_train):\n",
        "        self.X_train = np.array(X_train)\n",
        "        self.y_train = np.array(y_train)\n",
        "\n",
        "    def predict(self, X_test):\n",
        "        X_test = np.array(X_test)\n",
        "        predictions = [self._predict(x) for x in X_test]\n",
        "        return np.array(predictions)\n",
        "\n",
        "    def _predict(self, x):\n",
        "        # Compute distances to all training points\n",
        "        distances = [euclidean_distance(x, x_train) for x_train in self.X_train]\n",
        "        # Get the indices of the k closest neighbors\n",
        "        k_indices = np.argsort(distances)[:self.k]\n",
        "        # Get the labels of the k nearest neighbors\n",
        "        k_nearest_labels = [self.y_train[i] for i in k_indices]\n",
        "        # Return the most common label (majority vote)\n",
        "        most_common = Counter(k_nearest_labels).most_common(1)\n",
        "        return most_common[0][0]\n",
        "\n",
        "    def score(self, X_test, y_test):\n",
        "        y_pred = self.predict(X_test)\n",
        "        return np.mean(y_pred == y_test)\n",
        "\n",
        "# Example usage\n",
        "if __name__ == \"__main__\":\n",
        "    # Simple 2D dataset\n",
        "    X_train = [[1, 2], [2, 3], [3, 3], [6, 5], [7, 7], [8, 6]]\n",
        "    y_train = [0, 0, 0, 1, 1, 1]\n",
        "    X_test = [[1.5, 2.5], [7, 6]]\n",
        "\n",
        "    knn = KNN(k=3)\n",
        "    knn.fit(X_train, y_train)\n",
        "    predictions = knn.predict(X_test)\n",
        "\n",
        "    print(\"Predictions:\", predictions)\n",
        "\n"
      ],
      "metadata": {
        "colab": {
          "base_uri": "https://localhost:8080/"
        },
        "id": "4r9gQptTqdHx",
        "outputId": "f1e1a1b5-9f38-4a0e-f16a-e13b1e5ed1d0"
      },
      "execution_count": 2,
      "outputs": [
        {
          "output_type": "stream",
          "name": "stdout",
          "text": [
            "Predictions: [0 1]\n"
          ]
        }
      ]
    },
    {
      "cell_type": "code",
      "source": [
        "import numpy as np\n",
        "\n",
        "class DecisionTree:\n",
        "    def __init__(self, max_depth=None):\n",
        "        self.max_depth = max_depth\n",
        "        self.tree = None\n",
        "\n",
        "    def fit(self, X, y):\n",
        "        self.tree = self._build_tree(np.array(X), np.array(y))\n",
        "\n",
        "    def _gini(self, y):\n",
        "        classes, counts = np.unique(y, return_counts=True)\n",
        "        prob_sq = (counts / counts.sum()) ** 2\n",
        "        return 1 - np.sum(prob_sq)\n",
        "\n",
        "    def _best_split(self, X, y):\n",
        "        best_gain = 0\n",
        "        split_idx, split_thresh = None, None\n",
        "        n_features = X.shape[1]\n",
        "        parent_gini = self._gini(y)\n",
        "\n",
        "        for feature_index in range(n_features):\n",
        "            thresholds = np.unique(X[:, feature_index])\n",
        "            for threshold in thresholds:\n",
        "                left_mask = X[:, feature_index] <= threshold\n",
        "                right_mask = ~left_mask\n",
        "                if np.sum(left_mask) == 0 or np.sum(right_mask) == 0:\n",
        "                    continue\n",
        "\n",
        "                y_left, y_right = y[left_mask], y[right_mask]\n",
        "                gini_left = self._gini(y_left)\n",
        "                gini_right = self._gini(y_right)\n",
        "                weighted_gini = (len(y_left) * gini_left + len(y_right) * gini_right) / len(y)\n",
        "\n",
        "                gain = parent_gini - weighted_gini\n",
        "\n",
        "                if gain > best_gain:\n",
        "                    best_gain = gain\n",
        "                    split_idx = feature_index\n",
        "                    split_thresh = threshold\n",
        "        return split_idx, split_thresh\n",
        "\n",
        "    def _build_tree(self, X, y, depth=0):\n",
        "        if len(np.unique(y)) == 1:\n",
        "            return {'label': y[0]}\n",
        "        if self.max_depth is not None and depth >= self.max_depth:\n",
        "            most_common = np.bincount(y).argmax()\n",
        "            return {'label': most_common}\n",
        "\n",
        "        split_idx, split_thresh = self._best_split(X, y)\n",
        "        if split_idx is None:\n",
        "            most_common = np.bincount(y).argmax()\n",
        "            return {'label': most_common}\n",
        "\n",
        "        left_mask = X[:, split_idx] <= split_thresh\n",
        "        right_mask = ~left_mask\n",
        "        left_tree = self._build_tree(X[left_mask], y[left_mask], depth + 1)\n",
        "        right_tree = self._build_tree(X[right_mask], y[right_mask], depth + 1)\n",
        "\n",
        "        return {\n",
        "            'feature_index': split_idx,\n",
        "            'threshold': split_thresh,\n",
        "            'left': left_tree,\n",
        "            'right': right_tree\n",
        "        }\n",
        "\n",
        "    def predict(self, X):\n",
        "        return [self._predict(inputs, self.tree) for inputs in np.array(X)]\n",
        "\n",
        "    def _predict(self, x, node):\n",
        "        if 'label' in node:\n",
        "            return node['label']\n",
        "        if x[node['feature_index']] <= node['threshold']:\n",
        "            return self._predict(x, node['left'])\n",
        "        else:\n",
        "            return self._predict(x, node['right'])\n",
        "\n",
        "# Example usage\n",
        "if __name__ == \"__main__\":\n",
        "    X_train = [\n",
        "        [2.7, 2.5],\n",
        "        [1.3, 1.5],\n",
        "        [3.0, 3.5],\n",
        "        [5.0, 5.5],\n",
        "        [3.5, 2.2],\n",
        "        [4.5, 4.0],\n",
        "    ]\n",
        "    y_train = [0, 0, 0, 1, 1, 1]\n",
        "\n",
        "    clf = DecisionTree(max_depth=3)\n",
        "    clf.fit(X_train, y_train)\n",
        "\n",
        "    X_test = [[1.5, 2.0], [4.0, 4.5]]\n",
        "    predictions = clf.predict(X_test)\n",
        "\n",
        "    print(\"Predictions:\", predictions)\n"
      ],
      "metadata": {
        "colab": {
          "base_uri": "https://localhost:8080/"
        },
        "id": "1aZsbNMqq3j1",
        "outputId": "9a649b74-c77a-4b87-cd00-533b097bd7a7"
      },
      "execution_count": 3,
      "outputs": [
        {
          "output_type": "stream",
          "name": "stdout",
          "text": [
            "Predictions: [np.int64(0), np.int64(1)]\n"
          ]
        }
      ]
    },
    {
      "cell_type": "code",
      "source": [
        "import numpy as np\n",
        "\n",
        "def euclidean_distance(a, b):\n",
        "    return np.linalg.norm(a - b)\n",
        "\n",
        "def compute_distance_matrix(points):\n",
        "    n = len(points)\n",
        "    dist_matrix = np.full((n, n), np.inf)\n",
        "    for i in range(n):\n",
        "        for j in range(i + 1, n):\n",
        "            dist = euclidean_distance(points[i], points[j])\n",
        "            dist_matrix[i][j] = dist\n",
        "            dist_matrix[j][i] = dist\n",
        "    return dist_matrix\n",
        "\n",
        "def hierarchical_clustering(points):\n",
        "    points = np.array(points)\n",
        "    clusters = [[i] for i in range(len(points))]\n",
        "    distances = compute_distance_matrix(points)\n",
        "\n",
        "    merge_history = []\n",
        "\n",
        "    while len(clusters) > 1:\n",
        "        # Find the two closest clusters\n",
        "        min_dist = float('inf')\n",
        "        pair = (None, None)\n",
        "\n",
        "        for i in range(len(clusters)):\n",
        "            for j in range(i + 1, len(clusters)):\n",
        "                dists = [euclidean_distance(points[p1], points[p2]) for p1 in clusters[i] for p2 in clusters[j]]\n",
        "                linkage = min(dists)  # Single linkage\n",
        "                if linkage < min_dist:\n",
        "                    min_dist = linkage\n",
        "                    pair = (i, j)\n",
        "\n",
        "        i, j = pair\n",
        "        new_cluster = clusters[i] + clusters[j]\n",
        "        merge_history.append((clusters[i], clusters[j], min_dist))\n",
        "\n",
        "        # Remove the old clusters and add the new one\n",
        "        clusters.pop(max(i, j))\n",
        "        clusters.pop(min(i, j))\n",
        "        clusters.append(new_cluster)\n",
        "\n",
        "    return merge_history\n",
        "\n",
        "# Example usage\n",
        "if __name__ == \"__main__\":\n",
        "    data = np.array([\n",
        "        [1, 2],\n",
        "        [1.5, 1.8],\n",
        "        [5, 8],\n",
        "        [8, 8],\n",
        "        [1, 0.6],\n",
        "        [9, 11]\n",
        "    ])\n",
        "\n",
        "    history = hierarchical_clustering(data)\n",
        "    for merge in history:\n",
        "        print(\"Merged:\", merge[0], \"and\", merge[1], \"| Distance:\", round(merge[2], 2))\n"
      ],
      "metadata": {
        "colab": {
          "base_uri": "https://localhost:8080/"
        },
        "id": "I1uEERZkrBKf",
        "outputId": "d5e5dec0-d040-4036-ed0c-227c4380162e"
      },
      "execution_count": 4,
      "outputs": [
        {
          "output_type": "stream",
          "name": "stdout",
          "text": [
            "Merged: [0] and [1] | Distance: 0.54\n",
            "Merged: [4] and [0, 1] | Distance: 1.3\n",
            "Merged: [2] and [3] | Distance: 3.0\n",
            "Merged: [5] and [2, 3] | Distance: 3.16\n",
            "Merged: [4, 0, 1] and [5, 2, 3] | Distance: 7.12\n"
          ]
        }
      ]
    },
    {
      "cell_type": "code",
      "source": [
        "import numpy as np\n",
        "\n",
        "class SVM:\n",
        "    def __init__(self, learning_rate=0.001, lambda_param=0.01, n_iters=1000):\n",
        "        self.lr = learning_rate\n",
        "        self.lambda_param = lambda_param\n",
        "        self.n_iters = n_iters\n",
        "        self.w = None\n",
        "        self.b = None\n",
        "\n",
        "    def fit(self, X, y):\n",
        "        X = np.array(X)\n",
        "        y = np.array(y)\n",
        "        n_samples, n_features = X.shape\n",
        "\n",
        "        # Initialize weights and bias\n",
        "        self.w = np.zeros(n_features)\n",
        "        self.b = 0\n",
        "\n",
        "        # Convert labels to -1 and 1\n",
        "        y_ = np.where(y <= 0, -1, 1)\n",
        "\n",
        "        for _ in range(self.n_iters):\n",
        "            for idx, x_i in enumerate(X):\n",
        "                condition = y_[idx] * (np.dot(x_i, self.w) + self.b) >= 1\n",
        "                if condition:\n",
        "                    self.w -= self.lr * (2 * self.lambda_param * self.w)\n",
        "                else:\n",
        "                    self.w -= self.lr * (2 * self.lambda_param * self.w - np.dot(x_i, y_[idx]))\n",
        "                    self.b -= self.lr * y_[idx]\n",
        "\n",
        "    def predict(self, X):\n",
        "        X = np.array(X)\n",
        "        approx = np.dot(X, self.w) + self.b\n",
        "        return np.sign(approx)\n",
        "\n",
        "# Example usage\n",
        "if __name__ == \"__main__\":\n",
        "    # Simple linearly separable data\n",
        "    X_train = [[1, 2], [2, 3], [3, 3], [8, 8], [9, 10], [10, 9]]\n",
        "    y_train = [0, 0, 0, 1, 1, 1]  # Class 0 vs Class 1\n",
        "\n",
        "    # Convert labels to -1 and 1 for SVM\n",
        "    y_train_svm = [1 if label == 1 else -1 for label in y_train]\n",
        "\n",
        "    svm = SVM(learning_rate=0.001, lambda_param=0.01, n_iters=1000)\n",
        "    svm.fit(X_train, y_train_svm)\n",
        "\n",
        "    X_test = [[2, 2], [9, 9]]\n",
        "    predictions = svm.predict(X_test)\n",
        "    print(\"Predictions:\", predictions)  # Output: [-1, 1] → Class 0, Class 1\n"
      ],
      "metadata": {
        "colab": {
          "base_uri": "https://localhost:8080/"
        },
        "id": "2PWUNVFcrZfC",
        "outputId": "bbca7c71-150c-4363-fdc1-a71928d91312"
      },
      "execution_count": 5,
      "outputs": [
        {
          "output_type": "stream",
          "name": "stdout",
          "text": [
            "Predictions: [1. 1.]\n"
          ]
        }
      ]
    },
    {
      "cell_type": "code",
      "source": [
        "import numpy as np\n",
        "\n",
        "# Sigmoid activation and its derivative\n",
        "def sigmoid(x):\n",
        "    return 1 / (1 + np.exp(-x))\n",
        "\n",
        "def sigmoid_derivative(x):\n",
        "    return x * (1 - x)\n",
        "\n",
        "class NeuralNetwork:\n",
        "    def __init__(self, input_size, hidden_size, output_size, learning_rate=0.1):\n",
        "        # Initialize weights\n",
        "        self.w1 = np.random.randn(input_size, hidden_size)\n",
        "        self.b1 = np.zeros((1, hidden_size))\n",
        "        self.w2 = np.random.randn(hidden_size, output_size)\n",
        "        self.b2 = np.zeros((1, output_size))\n",
        "        self.lr = learning_rate\n",
        "\n",
        "    def forward(self, X):\n",
        "        self.z1 = np.dot(X, self.w1) + self.b1\n",
        "        self.a1 = sigmoid(self.z1)\n",
        "        self.z2 = np.dot(self.a1, self.w2) + self.b2\n",
        "        self.a2 = sigmoid(self.z2)\n",
        "        return self.a2\n",
        "\n",
        "    def backward(self, X, y, output):\n",
        "        m = X.shape[0]\n",
        "        error = output - y  # MSE loss derivative\n",
        "\n",
        "        d_z2 = error * sigmoid_derivative(output)\n",
        "        d_w2 = np.dot(self.a1.T, d_z2) / m\n",
        "        d_b2 = np.sum(d_z2, axis=0, keepdims=True) / m\n",
        "\n",
        "        d_a1 = np.dot(d_z2, self.w2.T)\n",
        "        d_z1 = d_a1 * sigmoid_derivative(self.a1)\n",
        "        d_w1 = np.dot(X.T, d_z1) / m\n",
        "        d_b1 = np.sum(d_z1, axis=0, keepdims=True) / m\n",
        "\n",
        "        # Update weights\n",
        "        self.w1 -= self.lr * d_w1\n",
        "        self.b1 -= self.lr * d_b1\n",
        "        self.w2 -= self.lr * d_w2\n",
        "        self.b2 -= self.lr * d_b2\n",
        "\n",
        "    def train(self, X, y, epochs=1000):\n",
        "        for i in range(epochs):\n",
        "            output = self.forward(X)\n",
        "            self.backward(X, y, output)\n",
        "\n",
        "    def predict(self, X):\n",
        "        output = self.forward(X)\n",
        "        return (output > 0.5).astype(int)\n",
        "\n",
        "# Example usage\n",
        "if __name__ == \"__main__\":\n",
        "    # Simple binary classification dataset (XOR)\n",
        "    X = np.array([[0, 0],\n",
        "                  [0, 1],\n",
        "                  [1, 0],\n",
        "                  [1, 1]])\n",
        "    y = np.array([[0], [1], [1], [0]])\n",
        "\n",
        "    nn = NeuralNetwork(input_size=2, hidden_size=4, output_size=1)\n",
        "    nn.train(X, y, epochs=10000)\n",
        "\n",
        "    preds = nn.predict(X)\n",
        "    print(\"Predictions:\\n\", preds)\n"
      ],
      "metadata": {
        "colab": {
          "base_uri": "https://localhost:8080/"
        },
        "id": "muCXzfPlrjgN",
        "outputId": "e3a6212c-fb0b-4078-d8f3-5b6154eda20c"
      },
      "execution_count": 6,
      "outputs": [
        {
          "output_type": "stream",
          "name": "stdout",
          "text": [
            "Predictions:\n",
            " [[0]\n",
            " [1]\n",
            " [1]\n",
            " [1]]\n"
          ]
        }
      ]
    },
    {
      "cell_type": "code",
      "source": [
        "import numpy as np\n",
        "\n",
        "class PolynomialRegression:\n",
        "    def __init__(self, degree=2):\n",
        "        self.degree = degree\n",
        "        self.coefficients = None\n",
        "\n",
        "    def _polynomial_features(self, X):\n",
        "        # Expand X to [1, x, x^2, ..., x^degree]\n",
        "        X = np.array(X)\n",
        "        return np.hstack([X**i for i in range(self.degree + 1)])\n",
        "\n",
        "    def fit(self, X, y):\n",
        "        X_poly = self._polynomial_features(X)\n",
        "        y = np.array(y).reshape(-1, 1)\n",
        "        # Normal Equation: θ = (XᵀX)^(-1)Xᵀy\n",
        "        self.coefficients = np.linalg.inv(X_poly.T @ X_poly) @ X_poly.T @ y\n",
        "\n",
        "    def predict(self, X):\n",
        "        X_poly = self._polynomial_features(X)\n",
        "        return X_poly @ self.coefficients\n",
        "\n",
        "# Example usage\n",
        "if __name__ == \"__main__\":\n",
        "    # Sample data (1D input)\n",
        "    X = np.array([[1], [2], [3], [4], [5]])\n",
        "    y = np.array([3, 6, 11, 18, 27])  # Fits roughly to y = x^2 + 2x\n",
        "\n",
        "    model = PolynomialRegression(degree=2)\n",
        "    model.fit(X, y)\n",
        "\n",
        "    X_test = np.array([[6], [7]])\n",
        "    predictions = model.predict(X_test)\n",
        "\n",
        "    print(\"Predictions:\", predictions.flatten())\n",
        "\n"
      ],
      "metadata": {
        "colab": {
          "base_uri": "https://localhost:8080/"
        },
        "id": "_tRuixEgroeB",
        "outputId": "20689d9b-56b3-45a8-9a96-f06e2f20c1d4"
      },
      "execution_count": 7,
      "outputs": [
        {
          "output_type": "stream",
          "name": "stdout",
          "text": [
            "Predictions: [38. 51.]\n"
          ]
        }
      ]
    },
    {
      "cell_type": "code",
      "source": [
        "import numpy as np\n",
        "\n",
        "def sigmoid(z):\n",
        "    return 1 / (1 + np.exp(-z))\n",
        "\n",
        "class LogisticRegression:\n",
        "    def __init__(self, learning_rate=0.01, n_iters=1000):\n",
        "        self.lr = learning_rate\n",
        "        self.n_iters = n_iters\n",
        "        self.weights = None\n",
        "        self.bias = None\n",
        "\n",
        "    def fit(self, X, y):\n",
        "        X = np.array(X)\n",
        "        y = np.array(y)\n",
        "        n_samples, n_features = X.shape\n",
        "\n",
        "        self.weights = np.zeros(n_features)\n",
        "        self.bias = 0\n",
        "\n",
        "        for _ in range(self.n_iters):\n",
        "            linear_model = np.dot(X, self.weights) + self.bias\n",
        "            y_predicted = sigmoid(linear_model)\n",
        "\n",
        "            dw = (1 / n_samples) * np.dot(X.T, (y_predicted - y))\n",
        "            db = (1 / n_samples) * np.sum(y_predicted - y)\n",
        "\n",
        "            self.weights -= self.lr * dw\n",
        "            self.bias -= self.lr * db\n",
        "\n",
        "    def predict_proba(self, X):\n",
        "        linear_model = np.dot(X, self.weights) + self.bias\n",
        "        return sigmoid(linear_model)\n",
        "\n",
        "    def predict(self, X):\n",
        "        y_pred_proba = self.predict_proba(X)\n",
        "        return [1 if i > 0.5 else 0 for i in y_pred_proba]\n",
        "\n",
        "# Example usage\n",
        "if __name__ == \"__main__\":\n",
        "    # Example binary classification dataset\n",
        "    X = np.array([[1, 2], [2, 3], [3, 5], [5, 7], [3, 1], [6, 4]])\n",
        "    y = np.array([0, 0, 0, 1, 0, 1])\n",
        "\n",
        "    clf = LogisticRegression(learning_rate=0.1, n_iters=1000)\n",
        "    clf.fit(X, y)\n",
        "\n",
        "    X_test = np.array([[4, 5], [1, 1]])\n",
        "    predictions = clf.predict(X_test)\n",
        "\n",
        "    print(\"Predictions:\", predictions)\n"
      ],
      "metadata": {
        "colab": {
          "base_uri": "https://localhost:8080/"
        },
        "id": "1aUF7Coir1FP",
        "outputId": "8bf491c2-decf-4580-eb3a-4e92f47c07e8"
      },
      "execution_count": 8,
      "outputs": [
        {
          "output_type": "stream",
          "name": "stdout",
          "text": [
            "Predictions: [1, 0]\n"
          ]
        }
      ]
    },
    {
      "cell_type": "code",
      "source": [
        "import numpy as np\n",
        "\n",
        "class LinearRegression:\n",
        "    def __init__(self):\n",
        "        self.coefficient = None\n",
        "        self.intercept = None\n",
        "\n",
        "    def fit(self, X, y):\n",
        "        X = np.array(X)\n",
        "        y = np.array(y).reshape(-1, 1)\n",
        "\n",
        "        # Add bias term (column of 1s)\n",
        "        X_b = np.hstack([np.ones((X.shape[0], 1)), X])\n",
        "\n",
        "        # Normal Equation: θ = (XᵀX)^(-1)Xᵀy\n",
        "        theta = np.linalg.inv(X_b.T @ X_b) @ X_b.T @ y\n",
        "        self.intercept = theta[0][0]\n",
        "        self.coefficient = theta[1:]\n",
        "\n",
        "    def predict(self, X):\n",
        "        X = np.array(X)\n",
        "        return np.dot(X, self.coefficient) + self.intercept\n",
        "\n",
        "# Example usage\n",
        "if __name__ == \"__main__\":\n",
        "    # Sample 1D data: y = 2x + 1\n",
        "    X = np.array([[1], [2], [3], [4], [5]])\n",
        "    y = np.array([3, 5, 7, 9, 11])\n",
        "\n",
        "    model = LinearRegression()\n",
        "    model.fit(X, y)\n",
        "\n",
        "    X_test = np.array([[6], [7]])\n",
        "    predictions = model.predict(X_test)\n",
        "    print(\"Predictions:\", predictions)\n"
      ],
      "metadata": {
        "colab": {
          "base_uri": "https://localhost:8080/"
        },
        "id": "BtGAGkIAr6RM",
        "outputId": "f349eb36-255e-4587-8f7f-02523a158e06"
      },
      "execution_count": 9,
      "outputs": [
        {
          "output_type": "stream",
          "name": "stdout",
          "text": [
            "Predictions: [[13.]\n",
            " [15.]]\n"
          ]
        }
      ]
    },
    {
      "cell_type": "code",
      "source": [
        "import numpy as np\n",
        "\n",
        "class LinearRegression:\n",
        "    def __init__(self):\n",
        "        self.coefficients = None  # Includes both weights and bias\n",
        "\n",
        "    def fit(self, X, y):\n",
        "        X = np.array(X)\n",
        "        y = np.array(y).reshape(-1, 1)\n",
        "\n",
        "        # Add bias (intercept) term — column of 1s\n",
        "        X_b = np.hstack([np.ones((X.shape[0], 1)), X])\n",
        "\n",
        "        # Normal Equation: θ = (XᵀX)^(-1)Xᵀy\n",
        "        self.coefficients = np.linalg.inv(X_b.T @ X_b) @ X_b.T @ y\n",
        "\n",
        "    def predict(self, X):\n",
        "        X = np.array(X)\n",
        "        X_b = np.hstack([np.ones((X.shape[0], 1)), X])\n",
        "        return X_b @ self.coefficients\n",
        "\n",
        "# Example usage\n",
        "if __name__ == \"__main__\":\n",
        "    # X has 2 features: [feature1, feature2]\n",
        "    X = [\n",
        "        [1, 2],\n",
        "        [2, 1],\n",
        "        [3, 4],\n",
        "        [4, 3],\n",
        "        [5, 5]\n",
        "    ]\n",
        "    y = [5, 6, 15, 16, 20]  # y = 2*feature1 + 3*feature2\n",
        "\n",
        "    model = LinearRegression()\n",
        "    model.fit(X, y)\n",
        "\n",
        "    X_test = [[6, 6], [3, 5]]\n",
        "    predictions = model.predict(X_test)\n",
        "    print(\"Predictions:\", predictions.flatten())\n"
      ],
      "metadata": {
        "colab": {
          "base_uri": "https://localhost:8080/"
        },
        "id": "0miOu6D_r-n1",
        "outputId": "17b49153-208b-46e1-a17e-29ce9ac45c1d"
      },
      "execution_count": 10,
      "outputs": [
        {
          "output_type": "stream",
          "name": "stdout",
          "text": [
            "Predictions: [25.4        15.73333333]\n"
          ]
        }
      ]
    },
    {
      "cell_type": "code",
      "source": [
        "import numpy as np\n",
        "\n",
        "class RidgeRegression:\n",
        "    def __init__(self, learning_rate=0.01, n_iters=1000, lambda_param=1):\n",
        "        self.lr = learning_rate\n",
        "        self.n_iters = n_iters\n",
        "        self.lambda_param = lambda_param  # Regularization strength\n",
        "        self.coefficients = None\n",
        "\n",
        "    def fit(self, X, y):\n",
        "        X = np.array(X)\n",
        "        y = np.array(y).reshape(-1, 1)\n",
        "        n_samples, n_features = X.shape\n",
        "\n",
        "        self.coefficients = np.zeros((n_features, 1))\n",
        "\n",
        "        for _ in range(self.n_iters):\n",
        "            predictions = X @ self.coefficients\n",
        "            error = predictions - y\n",
        "\n",
        "            # Gradient of the cost function with regularization\n",
        "            gradients = (2 / n_samples) * (X.T @ error) + (2 * self.lambda_param * self.coefficients)\n",
        "            self.coefficients -= self.lr * gradients\n",
        "\n",
        "    def predict(self, X):\n",
        "        X = np.array(X)\n",
        "        return X @ self.coefficients\n",
        "\n",
        "# Example usage\n",
        "if __name__ == \"__main__\":\n",
        "    # Multivariate data\n",
        "    X = [\n",
        "        [1, 2],\n",
        "        [2, 1],\n",
        "        [3, 4],\n",
        "        [4, 3],\n",
        "        [5, 5]\n",
        "    ]\n",
        "    y = [5, 6, 15, 16, 20]  # Example output\n",
        "\n",
        "    model = RidgeRegression(learning_rate=0.01, n_iters=1000, lambda_param=0.1)\n",
        "    model.fit(X, y)\n",
        "\n",
        "    X_test = [[6, 6], [3, 5]]\n",
        "    predictions = model.predict(X_test)\n",
        "    print(\"Ridge Predictions:\", predictions.flatten())\n"
      ],
      "metadata": {
        "colab": {
          "base_uri": "https://localhost:8080/"
        },
        "id": "R5-i3clVsOW2",
        "outputId": "9e7e0ebc-b048-40d2-9075-fa61a64a5f32"
      },
      "execution_count": 11,
      "outputs": [
        {
          "output_type": "stream",
          "name": "stdout",
          "text": [
            "Ridge Predictions: [24.88479263 15.78989629]\n"
          ]
        }
      ]
    },
    {
      "cell_type": "code",
      "source": [
        "import numpy as np\n",
        "\n",
        "class LassoRegression:\n",
        "    def __init__(self, learning_rate=0.01, n_iters=1000, lambda_param=0.1):\n",
        "        self.lr = learning_rate\n",
        "        self.n_iters = n_iters\n",
        "        self.lambda_param = lambda_param  # Regularization strength\n",
        "        self.coefficients = None\n",
        "\n",
        "    def fit(self, X, y):\n",
        "        X = np.array(X)\n",
        "        y = np.array(y).reshape(-1, 1)\n",
        "        n_samples, n_features = X.shape\n",
        "\n",
        "        self.coefficients = np.zeros((n_features, 1))\n",
        "\n",
        "        for _ in range(self.n_iters):\n",
        "            predictions = X @ self.coefficients\n",
        "            error = predictions - y\n",
        "\n",
        "            # Gradient of the cost function with regularization\n",
        "            gradients = (2 / n_samples) * (X.T @ error) + self.lambda_param * np.sign(self.coefficients)\n",
        "            self.coefficients -= self.lr * gradients\n",
        "\n",
        "    def predict(self, X):\n",
        "        X = np.array(X)\n",
        "        return X @ self.coefficients\n",
        "\n",
        "# Example usage\n",
        "if __name__ == \"__main__\":\n",
        "    # Multivariate data\n",
        "    X = [\n",
        "        [1, 2],\n",
        "        [2, 1],\n",
        "        [3, 4],\n",
        "        [4, 3],\n",
        "        [5, 5]\n",
        "    ]\n",
        "    y = [5, 6, 15, 16, 20]  # Example output\n",
        "\n",
        "    model = LassoRegression(learning_rate=0.01, n_iters=1000, lambda_param=0.1)\n",
        "    model.fit(X, y)\n",
        "\n",
        "    X_test = [[6, 6], [3, 5]]\n",
        "    predictions = model.predict(X_test)\n",
        "    print(\"Lasso Predictions:\", predictions.flatten())\n"
      ],
      "metadata": {
        "colab": {
          "base_uri": "https://localhost:8080/"
        },
        "id": "ML4xfew2sTcO",
        "outputId": "fabb9edc-8ace-4356-ee9e-6a86f5b1bb5a"
      },
      "execution_count": 12,
      "outputs": [
        {
          "output_type": "stream",
          "name": "stdout",
          "text": [
            "Lasso Predictions: [24.97222222 15.64847299]\n"
          ]
        }
      ]
    },
    {
      "cell_type": "code",
      "source": [],
      "metadata": {
        "id": "nj4uadIKsY6R"
      },
      "execution_count": null,
      "outputs": []
    }
  ]
}